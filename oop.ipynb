{
  "nbformat": 4,
  "nbformat_minor": 0,
  "metadata": {
    "colab": {
      "name": "oop.ipynb",
      "provenance": [],
      "collapsed_sections": [],
      "authorship_tag": "ABX9TyNUCv0XsFzV9aLnAu5Rmv0J",
      "include_colab_link": true
    },
    "kernelspec": {
      "name": "python3",
      "display_name": "Python 3"
    }
  },
  "cells": [
    {
      "cell_type": "markdown",
      "metadata": {
        "id": "view-in-github",
        "colab_type": "text"
      },
      "source": [
        "<a href=\"https://colab.research.google.com/github/xonmaina/aggregator/blob/master/oop.ipynb\" target=\"_parent\"><img src=\"https://colab.research.google.com/assets/colab-badge.svg\" alt=\"Open In Colab\"/></a>"
      ]
    },
    {
      "cell_type": "code",
      "metadata": {
        "id": "qJCn7NmZtK-i"
      },
      "source": [
        "class Student:\n",
        "  school='Tenerife'\n",
        "  def __init__(self,name,rollno):\n",
        "    self.name=name\n",
        "    self.rollno=rollno\n",
        "    self.lap=self.Laptop()\n",
        "\n",
        "\n",
        "  def show(self):\n",
        "    print(self.name,self.rollno) \n",
        "    self.lap.show()\n",
        "\n",
        "\n",
        "  class Laptop:\n",
        "    def __init__(self):\n",
        "      self.brand='Hp'\n",
        "      self.cpu='i5'\n",
        "      self.ram=8\n",
        "    \n",
        "    def show(self):\n",
        "      print(self.brand,self.cpu,self.ram)\n",
        "\n",
        "\n"
      ],
      "execution_count": null,
      "outputs": []
    },
    {
      "cell_type": "code",
      "metadata": {
        "id": "l8racguWOa19",
        "colab": {
          "base_uri": "https://localhost:8080/"
        },
        "outputId": "5ca1ee18-a612-44df-c0ce-6401f9da03ba"
      },
      "source": [
        "A,B = [4, -1, 0, 3], [-2, 5, 0, 3]\n",
        "\n",
        "for i in range(1, len(A)):\n",
        "  A[i] += A[i - 1]\n",
        "  B[i] += B[i - 1]\n",
        "\n",
        "print(A)\n",
        "print(B)\n"
      ],
      "execution_count": null,
      "outputs": [
        {
          "output_type": "stream",
          "text": [
            "[4, 3, 3, 6]\n",
            "[-2, 3, 3, 6]\n"
          ],
          "name": "stdout"
        }
      ]
    },
    {
      "cell_type": "code",
      "metadata": {
        "id": "bHqdnuCK3sFV"
      },
      "source": [
        ""
      ],
      "execution_count": null,
      "outputs": []
    },
    {
      "cell_type": "code",
      "metadata": {
        "colab": {
          "base_uri": "https://localhost:8080/"
        },
        "id": "NfjmEFZBuqac",
        "outputId": "1c73536b-06bf-493f-af60-5b4b35583dff"
      },
      "source": [
        "s1=Student('teddy',5)\n",
        "s1.show()"
      ],
      "execution_count": null,
      "outputs": [
        {
          "output_type": "stream",
          "text": [
            "teddy 5\n",
            "Hp i5 8\n"
          ],
          "name": "stdout"
        }
      ]
    },
    {
      "cell_type": "code",
      "metadata": {
        "colab": {
          "base_uri": "https://localhost:8080/"
        },
        "id": "o7AWcg4yv1XM",
        "outputId": "d400b1b7-1456-4ce6-9dc6-a0a19d1e9286"
      },
      "source": [
        "class PyCharm():\n",
        "  def execute(self):\n",
        "    print('Compiling')\n",
        "    print('Running')\n",
        "\n",
        "class MyEditor():\n",
        "  def execute(self):\n",
        "    print('spell check')\n",
        "    print('variable check')\n",
        "    print('running')\n",
        "    print('compiling')\n",
        "\n",
        "class Laptop():\n",
        "  def code(self,ide):\n",
        "    ide.execute()\n",
        "\n",
        "\n",
        "ide = MyEditor()\n",
        "\n",
        "lap1 = Laptop()\n",
        "\n",
        "lap1.code(ide)\n"
      ],
      "execution_count": null,
      "outputs": [
        {
          "output_type": "stream",
          "text": [
            "spell check\n",
            "variable check\n",
            "running\n",
            "compiling\n"
          ],
          "name": "stdout"
        }
      ]
    },
    {
      "cell_type": "code",
      "metadata": {
        "colab": {
          "base_uri": "https://localhost:8080/"
        },
        "id": "VFOlwCteCLqj",
        "outputId": "c62927f0-2960-4856-cf4d-8ad8c3b5c93d"
      },
      "source": [
        "class Student():\n",
        "\n",
        "  def __init__(self,m1,m2):\n",
        "    self.m1=m1\n",
        "    self.m2=m2\n",
        "\n",
        "\n",
        "  def __add__(self,other):\n",
        "    m1=self.m1+other.m1\n",
        "    m2=self.m2+other.m2\n",
        "    s3=Student(m1,m2)\n",
        "    return s3\n",
        "\n",
        "  def __gt__(self,other):\n",
        "    r1=self.m1+self.m2\n",
        "    r2=other.m1+other.m2\n",
        "    if r1>r2:\n",
        "      return True\n",
        "    else:\n",
        "      return False\n",
        "\n",
        "  def __str__(self):\n",
        "    return '{} {}'.format(self.m1,self.m2)\n",
        "\n",
        "s1=Student(41,42)\n",
        "s2=Student(43,44)\n",
        "\n",
        "if s1>s2:\n",
        "  print ('s1 wins')\n",
        "else:\n",
        "  print('s2 wins')\n",
        "\n",
        "\n",
        "s3=s1+s2\n",
        "\n",
        "print(s1)"
      ],
      "execution_count": null,
      "outputs": [
        {
          "output_type": "stream",
          "text": [
            "s2 wins\n",
            "41 42\n"
          ],
          "name": "stdout"
        }
      ]
    },
    {
      "cell_type": "code",
      "metadata": {
        "colab": {
          "base_uri": "https://localhost:8080/"
        },
        "id": "iQIUvJkYQsNH",
        "outputId": "2ca60439-2866-4c42-d170-b3060ffb265c"
      },
      "source": [
        "from time import sleep\n",
        "from threading import *\n",
        "\n",
        "\n",
        "class Hello(Thread):\n",
        "  def run(self):\n",
        "    for i in range(5):\n",
        "      print('Hello')\n",
        "      sleep(1)\n",
        "\n",
        "\n",
        "\n",
        "class Hi(Thread):\n",
        "  def run(self):\n",
        "    for i in range(5):\n",
        "      print('Hi')\n",
        "      sleep(1)\n",
        "\n",
        "\n",
        "\n",
        "t1=Hello()\n",
        "t2=Hi()\n",
        "\n",
        "t1.start()\n",
        "sleep(0.2)\n",
        "t2.start()\n",
        "\n",
        "\n",
        "t1.join()\n",
        "t2.join()\n",
        "\n",
        "print('Bye')"
      ],
      "execution_count": null,
      "outputs": [
        {
          "output_type": "stream",
          "text": [
            "Hello\n",
            "Hi\n",
            "Hello\n",
            "Hi\n",
            "Hello\n",
            "Hi\n",
            "Hello\n",
            "Hi\n",
            "Hello\n",
            "Hi\n",
            "Bye\n"
          ],
          "name": "stdout"
        }
      ]
    },
    {
      "cell_type": "code",
      "metadata": {
        "colab": {
          "base_uri": "https://localhost:8080/"
        },
        "id": "wK3GjB2GSp-7",
        "outputId": "04c181b4-073b-460a-89f8-4cedd5a88c21"
      },
      "source": [
        "from time import *\n",
        "\n",
        "def add(x,y):\n",
        "  return x+y\n",
        "\n",
        "def sub(x,y):\n",
        "  return x-y\n",
        "\n",
        "def timer(func,x,y):\n",
        "  before=time()\n",
        "  rv=func(x,y)\n",
        "  after=time()\n",
        "  print('elapsed' , after-before)\n",
        "  return rv\n",
        "\n",
        "\n",
        "\n",
        "print(timer(add,54,60))"
      ],
      "execution_count": null,
      "outputs": [
        {
          "output_type": "stream",
          "text": [
            "elapsed 9.5367431640625e-07\n",
            "114\n"
          ],
          "name": "stdout"
        }
      ]
    },
    {
      "cell_type": "code",
      "metadata": {
        "colab": {
          "base_uri": "https://localhost:8080/"
        },
        "id": "TcwlDijpW61r",
        "outputId": "a4a9b52a-b21f-47ca-a37a-334a0d077c9d"
      },
      "source": [
        "#####Decorators\n",
        "\n",
        "from time import time\n",
        "\n",
        "\n",
        "\n",
        "def sub(x,y):\n",
        "  return x-y\n",
        "\n",
        "def timer(func):\n",
        "  def f (*args,**kwargs):\n",
        "    before=time()\n",
        "    rv=func(*args,**kwargs)\n",
        "    after=time()\n",
        "    print('elapsed' , after-before)\n",
        "    return rv\n",
        "  return f\n",
        "\n",
        "\n",
        "\n",
        "@timer\n",
        "def add(x,y):\n",
        "  return x+y\n",
        "\n",
        "print(add(20,10))\n",
        "\n",
        "\n",
        "\n"
      ],
      "execution_count": null,
      "outputs": [
        {
          "output_type": "stream",
          "text": [
            "elapsed 7.152557373046875e-07\n",
            "30\n"
          ],
          "name": "stdout"
        }
      ]
    },
    {
      "cell_type": "code",
      "metadata": {
        "colab": {
          "base_uri": "https://localhost:8080/"
        },
        "id": "uM0e-aqE2KIX",
        "outputId": "b09f5f46-c7ff-4bc4-8580-a5298c647f5e"
      },
      "source": [
        "#generators\n",
        "\n",
        "\n",
        "\n",
        "#complex , a lot of code\n",
        "class Compute():\n",
        "\n",
        "  def __iter__(self):\n",
        "    self.last=0\n",
        "    return self\n",
        "\n",
        "  def __next__(self):\n",
        "    rv = self.last\n",
        "    self.last +=1 \n",
        "    if self.last>=10:\n",
        "      raise StopIteration()\n",
        "    sleep(.5)\n",
        "    return rv\n",
        "\n",
        "\n",
        "for val in Compute():\n",
        "  print(val)\n",
        "\n",
        "\n",
        "#Generator\n"
      ],
      "execution_count": null,
      "outputs": [
        {
          "output_type": "stream",
          "text": [
            "0\n",
            "1\n",
            "2\n",
            "3\n",
            "4\n",
            "5\n",
            "6\n",
            "7\n",
            "8\n"
          ],
          "name": "stdout"
        }
      ]
    },
    {
      "cell_type": "code",
      "metadata": {
        "colab": {
          "base_uri": "https://localhost:8080/"
        },
        "id": "KYF4XyrpAFCo",
        "outputId": "0717b2a0-70c2-423d-fd9b-7f6fdf728401"
      },
      "source": [
        "#Generator\n",
        "#give values to the \"caller\" one at a time\n",
        "def compute():\n",
        "  for i in range(10):\n",
        "    sleep(.5)\n",
        "    yield i\n",
        "\n",
        "\n",
        "for val in compute():\n",
        "  print(val)\n",
        "\n"
      ],
      "execution_count": null,
      "outputs": [
        {
          "output_type": "stream",
          "text": [
            "0\n",
            "1\n",
            "2\n",
            "3\n",
            "4\n",
            "5\n",
            "6\n",
            "7\n",
            "8\n",
            "9\n"
          ],
          "name": "stdout"
        }
      ]
    },
    {
      "cell_type": "code",
      "metadata": {
        "id": "mUqIATOrgggR",
        "colab": {
          "base_uri": "https://localhost:8080/"
        },
        "outputId": "e03ed82f-2830-4ee1-88f0-4051d4001061"
      },
      "source": [
        "#context manager\n",
        "\n",
        "from sqlite3 import connect\n",
        "\n",
        "def temptable(cur):\n",
        "  cur.execute('create table points(x int ,y int)')\n",
        "  yield\n",
        "  cur.execute('drop table points')\n",
        "\n",
        "\n",
        "class contextmanager():\n",
        "  def __init__(self,gen):\n",
        "    self.gen=gen\n",
        "\n",
        "  def __call__(self,*args,**kwargs):\n",
        "    self.args,self.kwargs=args,kwargs\n",
        "    return self\n",
        "\n",
        "  def __enter__(self):\n",
        "    self.gen_inst=self.gen(*self.args,**self.kwargs)\n",
        "    next(self.gen_inst)\n",
        "\n",
        "  def __exit__(self,*args):\n",
        "    next(self.gen_inst, None)\n",
        "\n",
        "\n",
        "#@Contextmanager\n",
        "\n",
        "with connect('test.db') as conn:\n",
        "  cur=conn.cursor()\n",
        "  with contextmanager(temptable)(cur):\n",
        "    cur.execute('insert into points(x,y) values(1,1)')\n",
        "    cur.execute('insert into points(x,y) values(2,2)')\n",
        "    cur.execute('insert into points(x,y) values(3,3)')\n",
        "    cur.execute('insert into points(x,y) values(4,4)')\n",
        "    for row in cur.execute('select x,y from points'):\n",
        "      print(row)\n",
        "    \n",
        "\n",
        "\n",
        "    \n",
        "\n",
        "\n",
        "    \n"
      ],
      "execution_count": null,
      "outputs": [
        {
          "output_type": "stream",
          "text": [
            "(1, 1)\n",
            "(2, 2)\n",
            "(3, 3)\n",
            "(4, 4)\n"
          ],
          "name": "stdout"
        }
      ]
    },
    {
      "cell_type": "code",
      "metadata": {
        "id": "0c-FAxIXEs20"
      },
      "source": [
        ""
      ],
      "execution_count": null,
      "outputs": []
    },
    {
      "cell_type": "code",
      "metadata": {
        "id": "BksscWIPEtqB"
      },
      "source": [
        ""
      ],
      "execution_count": null,
      "outputs": []
    },
    {
      "cell_type": "code",
      "metadata": {
        "colab": {
          "base_uri": "https://localhost:8080/"
        },
        "id": "utPmStPZGOrJ",
        "outputId": "95a65c48-ef95-421f-df62-88318690ffb2"
      },
      "source": [
        "#context manager\n",
        "\n",
        "from sqlite3 import connect\n",
        "from contextlib import contextmanager\n",
        "\n",
        "@contextmanager\n",
        "def temptable(cur):\n",
        "  cur.execute('create table points(x int ,y int)')\n",
        "  try:\n",
        "    yield\n",
        "  finally:\n",
        "    cur.execute('drop table points')\n",
        "  \n",
        "#temptable=contextmanager(temptable)\n",
        "'''\n",
        "class contextmanager():\n",
        "  def __init__(self,gen):\n",
        "    self.gen=gen\n",
        "\n",
        "  def __call__(self,*args,**kwargs):\n",
        "    self.args,self.kwargs=args,kwargs\n",
        "    return self\n",
        "\n",
        "  def __enter__(self):\n",
        "    self.gen_inst=self.gen(*self.args,**self.kwargs)\n",
        "    next(self.gen_inst)\n",
        "\n",
        "  def __exit__(self,*args):\n",
        "    next(self.gen_inst, None)\n",
        "'''\n",
        "\n",
        "#@Contextmanager\n",
        "\n",
        "with connect('test.db') as conn:\n",
        "  cur=conn.cursor()\n",
        "  with temptable(cur):\n",
        "    cur.execute('insert into points(x,y) values(1,1)')\n",
        "    cur.execute('insert into points(x,y) values(2,2)')\n",
        "    cur.execute('insert into points(x,y) values(3,3)')\n",
        "    cur.execute('insert into points(x,y) values(4,4)')\n",
        "    for row in cur.execute('select x,y from points'):\n",
        "      print(row)"
      ],
      "execution_count": null,
      "outputs": [
        {
          "output_type": "stream",
          "text": [
            "(1, 1)\n",
            "(2, 2)\n",
            "(3, 3)\n",
            "(4, 4)\n"
          ],
          "name": "stdout"
        }
      ]
    },
    {
      "cell_type": "code",
      "metadata": {
        "colab": {
          "base_uri": "https://localhost:8080/"
        },
        "id": "BCR2d6c21eJy",
        "outputId": "51187e57-2ce1-4d5c-922a-4bef93f06f16"
      },
      "source": [
        "from functools import reduce\n",
        "\n",
        "\n",
        "numbers=[i for i in range(1,21)]\n",
        "\n",
        "\n",
        "def square(n):\n",
        "  return n**2\n",
        "\n",
        "def even(n):\n",
        "  return n%2==0\n",
        "\n",
        "def multiply(x,y):\n",
        "  return x*y\n",
        "\n",
        "\n",
        "squares=list(map(square, numbers))\n",
        "print(squares)\n",
        "\n",
        "evens=list(filter(even, numbers))\n",
        "print(evens)\n",
        "\n",
        "\n",
        "summary=reduce(multiply, numbers)\n",
        "print(summary)\n",
        "\n",
        "\n",
        "\n",
        "squares = list(map(lambda x : x**2, numbers))\n",
        "\n",
        "print (squares)\n",
        "\n",
        "filters = list(filter(lambda x : x % 2 ==0,numbers))\n",
        "print(filters)\n",
        "\n",
        "reduced = reduce(lambda x,y : x*y,numbers)\n",
        "print(reduced)\n"
      ],
      "execution_count": null,
      "outputs": [
        {
          "output_type": "stream",
          "text": [
            "[1, 4, 9, 16, 25, 36, 49, 64, 81, 100, 121, 144, 169, 196, 225, 256, 289, 324, 361, 400]\n",
            "[2, 4, 6, 8, 10, 12, 14, 16, 18, 20]\n",
            "2432902008176640000\n",
            "[1, 4, 9, 16, 25, 36, 49, 64, 81, 100, 121, 144, 169, 196, 225, 256, 289, 324, 361, 400]\n",
            "[2, 4, 6, 8, 10, 12, 14, 16, 18, 20]\n",
            "2432902008176640000\n"
          ],
          "name": "stdout"
        }
      ]
    },
    {
      "cell_type": "markdown",
      "metadata": {
        "id": "XrNd8igG5nVE"
      },
      "source": [
        "# New Section"
      ]
    },
    {
      "cell_type": "code",
      "metadata": {
        "id": "TKLeVByRaIw0"
      },
      "source": [
        ""
      ],
      "execution_count": null,
      "outputs": []
    },
    {
      "cell_type": "code",
      "metadata": {
        "colab": {
          "base_uri": "https://localhost:8080/"
        },
        "id": "LDYX0bwDoCLO",
        "outputId": "adbb7c5d-0e98-4dee-81b9-afdebc7a0658"
      },
      "source": [
        "#decorators\n",
        "\n",
        "from datetime import datetime\n",
        "\n",
        "\n",
        "\n",
        "def log(func):\n",
        "  def wrapper(*args,**kwargs):\n",
        "    with open ('logs.txt','a') as f:\n",
        "      f.write('called function with'+ ' '.join([str(arg) for arg in args]) + 'at'+str(datetime.now()))\n",
        "    print('called function with '+ ' , '.join([str(arg) for arg in args]) + ' at '+str(datetime.now()))\n",
        "    val=func(*args,**kwargs)\n",
        "    return val\n",
        "  return wrapper\n",
        "\n",
        "\n",
        "@log\n",
        "def run(a,b,c=9):\n",
        "  print(a+b+c)\n",
        "\n",
        "\n",
        "run(1,3,9)\n"
      ],
      "execution_count": null,
      "outputs": [
        {
          "output_type": "stream",
          "text": [
            "called function with 1 , 3 , 9 at 2020-12-29 08:53:31.287077\n",
            "13\n"
          ],
          "name": "stdout"
        }
      ]
    },
    {
      "cell_type": "code",
      "metadata": {
        "colab": {
          "base_uri": "https://localhost:8080/"
        },
        "id": "ChAvSvZYEuvP",
        "outputId": "9e2ed81d-839e-4f1e-8361-775f21339124"
      },
      "source": [
        "a=1\n",
        "b=2\n",
        "def func():\n",
        "\n",
        "  global b\n",
        "  b = b+1\n",
        "func()\n",
        "print(b)\n",
        "\n",
        "\n",
        "\n",
        "def SetAnnual():\n",
        "  global annual\n",
        "  annual=10000\n",
        "def PrintMonthly():\n",
        "  print(\"Your monthly payment is \"+str(annual/12)+\" USD.\")\n",
        "SetAnnual()\n",
        "PrintMonthly()"
      ],
      "execution_count": null,
      "outputs": [
        {
          "output_type": "stream",
          "text": [
            "3\n",
            "Your monthly payment is 833.3333333333334 USD.\n"
          ],
          "name": "stdout"
        }
      ]
    },
    {
      "cell_type": "code",
      "metadata": {
        "colab": {
          "base_uri": "https://localhost:8080/"
        },
        "id": "ZNNCBJ5fsI7X",
        "outputId": "38f3db4e-acd0-4c1c-c81d-b98d770e5138"
      },
      "source": [
        "\n",
        "pitchnames=['fly','when','you','can']\n",
        "# create a dictionary to map pitches to integers\n",
        "note_to_int = dict((note, number) for number, note in enumerate(pitchnames))\n",
        "print(note_to_int)\n",
        "print(dict([(number,note) for number , note in enumerate(pitchnames)]))"
      ],
      "execution_count": null,
      "outputs": [
        {
          "output_type": "stream",
          "text": [
            "{'fly': 0, 'when': 1, 'you': 2, 'can': 3}\n",
            "{0: 'fly', 1: 'when', 2: 'you', 3: 'can'}\n"
          ],
          "name": "stdout"
        }
      ]
    },
    {
      "cell_type": "code",
      "metadata": {
        "colab": {
          "base_uri": "https://localhost:8080/"
        },
        "id": "Rxoa_JK7aKBy",
        "outputId": "0bee4040-9cd4-4417-b80a-fc527a04fb9d"
      },
      "source": [
        "Q=[1, 2, 3, 4]\n",
        "Q=[P-1 for P in Q]\n",
        "\n",
        "print(Q)\n",
        "moves=0\n",
        "for i,P in enumerate(Q):\n",
        "        # i is the current position of P, while P is the\n",
        "        # original position of P.\n",
        "        #\n",
        "        # First check if any P is more than two ahead of \n",
        "        # its original position\n",
        "        if P - i > 2:\n",
        "            print(\"Too chaotic\")\n",
        "\n",
        "        for j in range(max(P-1,0),i):\n",
        "            if Q[j] > P:\n",
        "                moves += 1\n",
        "        print(moves)"
      ],
      "execution_count": null,
      "outputs": [
        {
          "output_type": "stream",
          "text": [
            "[0, 1, 2, 3]\n",
            "0\n",
            "0\n",
            "0\n",
            "0\n"
          ],
          "name": "stdout"
        }
      ]
    },
    {
      "cell_type": "code",
      "metadata": {
        "colab": {
          "base_uri": "https://localhost:8080/"
        },
        "id": "9PeDGxC8Czwi",
        "outputId": "fa996063-e30b-4f31-efec-9919143dd94c"
      },
      "source": [
        "def minimumBribes(q):\n",
        "    bribes = 0\n",
        "    for i in range(len(q)-1,-1,-1):\n",
        "        if q[i] - (i + 1) > 2:\n",
        "            print('Too chaotic')\n",
        "            return\n",
        "        for j in range(max(0, q[i] - 2),i):\n",
        "            if q[j] > q[i]:\n",
        "                bribes+=1\n",
        "    print(bribes)\n",
        "\n",
        "\n",
        "q=[1,2,3,4,5,6,7,8]\n",
        "\n",
        "\n",
        "minimumBribes(q)"
      ],
      "execution_count": null,
      "outputs": [
        {
          "output_type": "stream",
          "text": [
            "0\n"
          ],
          "name": "stdout"
        }
      ]
    },
    {
      "cell_type": "code",
      "metadata": {
        "colab": {
          "base_uri": "https://localhost:8080/"
        },
        "id": "FXHgHFBvwF5a",
        "outputId": "fa19a386-9cd0-4fd8-c21d-e5e433ff6c91"
      },
      "source": [
        "q=[1,2,3,5,4,6,7,8]\n",
        "\n",
        "#for i in range(len(q)-1,-1,-1):\n",
        "#  print(i)\n",
        "\n",
        "bribes = 0\n",
        "for i in range(len(q)-1,-1,-1):\n",
        "    if q[i] - (i + 1) > 2:\n",
        "        print('Too chaotic')\n",
        "        \n",
        "    for j in range(max(0, q[i] - 2),i):\n",
        "        print(j)\n",
        "        if q[j] > q[i]:\n",
        "            bribes+=1\n",
        "            print(j)\n",
        "            print(i)\n",
        "\n"
      ],
      "execution_count": null,
      "outputs": [
        {
          "output_type": "stream",
          "text": [
            "6\n",
            "5\n",
            "4\n",
            "2\n",
            "3\n",
            "3\n",
            "4\n",
            "1\n",
            "0\n"
          ],
          "name": "stdout"
        }
      ]
    },
    {
      "cell_type": "code",
      "metadata": {
        "colab": {
          "base_uri": "https://localhost:8080/"
        },
        "id": "iwiLGRuoVbeV",
        "outputId": "244c1ae1-1862-4898-df0d-6341db61ea66"
      },
      "source": [
        "sorted_ids=[1, 2, 4, 5, 8, 9, 10, 12, 13, 16, 17, 18, 20]\n",
        "a = sorted_ids[0]\n",
        "b = sorted_ids[-1]\n",
        "nums = set(sorted_ids)\n",
        "expected = [\"T\" + str(i) if i in nums else 'V' for i in range(a,b+1)]\n",
        "print(expected)"
      ],
      "execution_count": null,
      "outputs": [
        {
          "output_type": "stream",
          "text": [
            "['T1', 'T2', 'V', 'T4', 'T5', 'V', 'V', 'T8', 'T9', 'T10', 'V', 'T12', 'T13', 'V', 'V', 'T16', 'T17', 'T18', 'V', 'T20']\n"
          ],
          "name": "stdout"
        }
      ]
    },
    {
      "cell_type": "code",
      "metadata": {
        "colab": {
          "base_uri": "https://localhost:8080/"
        },
        "id": "EyNVt9cfZOii",
        "outputId": "2416bd57-8259-43c2-9cb1-1e21f5950725"
      },
      "source": [
        "def minimumSwaps(arr):\n",
        "    ref_arr = sorted(arr)\n",
        "    index_dict = {v: i for i,v in enumerate(arr)}\n",
        "    swaps = 0\n",
        "    \n",
        "    for i,v in enumerate(arr):\n",
        "        correct_value = ref_arr[i]\n",
        "        if v != correct_value:\n",
        "            to_swap_ix = index_dict[correct_value]\n",
        "            arr[to_swap_ix],arr[i] = arr[i], arr[to_swap_ix]\n",
        "            index_dict[v] = to_swap_ix\n",
        "            index_dict[correct_value] = i\n",
        "            swaps += 1\n",
        "            \n",
        "    return swaps\n",
        "\n",
        "\n",
        "e=[1,3,4,2,6,5]\n",
        "print(minimumSwaps(e))\n",
        "\n",
        "\n"
      ],
      "execution_count": null,
      "outputs": [
        {
          "output_type": "stream",
          "text": [
            "3\n"
          ],
          "name": "stdout"
        }
      ]
    },
    {
      "cell_type": "code",
      "metadata": {
        "colab": {
          "base_uri": "https://localhost:8080/"
        },
        "id": "MnxJQR42MoM5",
        "outputId": "52b408a9-cf11-4ff8-feaa-0a784fac92bf"
      },
      "source": [
        "arr=[1,3,4,2,6,5]\n",
        "ref_arr = sorted(arr)\n",
        "index_dict = {v: i for i,v in enumerate(arr)}\n",
        "swaps = 0\n",
        "\n",
        "for i,v in enumerate(arr):\n",
        "    correct_value = ref_arr[i]\n",
        "    if v != correct_value:\n",
        "        to_swap_ix = index_dict[correct_value]\n",
        "        arr[to_swap_ix],arr[i] = arr[i], arr[to_swap_ix]\n",
        "        index_dict[v] = to_swap_ix\n",
        "        index_dict[correct_value] = i\n",
        "        swaps += 1\n",
        "    print(arr)"
      ],
      "execution_count": null,
      "outputs": [
        {
          "output_type": "stream",
          "text": [
            "[1, 3, 4, 2, 6, 5]\n",
            "[1, 2, 4, 3, 6, 5]\n",
            "[1, 2, 3, 4, 6, 5]\n",
            "[1, 2, 3, 4, 6, 5]\n",
            "[1, 2, 3, 4, 5, 6]\n",
            "[1, 2, 3, 4, 5, 6]\n"
          ],
          "name": "stdout"
        }
      ]
    },
    {
      "cell_type": "code",
      "metadata": {
        "colab": {
          "base_uri": "https://localhost:8080/"
        },
        "id": "P8LH4q6-Hagt",
        "outputId": "3205fa40-b51b-4dbb-ccb5-cd3b701979e1"
      },
      "source": [
        "\n",
        "arr=[1,3,4,2,6,5]\n",
        "\n",
        "ind={v:j for j,v in enumerate(arr)}\n",
        "\n",
        "print(ind)\n",
        "\n",
        "for i in range(len(arr)):\n",
        "  \n"
      ],
      "execution_count": null,
      "outputs": [
        {
          "output_type": "stream",
          "text": [
            "{1: 0, 3: 1, 4: 2, 2: 3, 6: 4, 5: 5}\n"
          ],
          "name": "stdout"
        }
      ]
    },
    {
      "cell_type": "code",
      "metadata": {
        "colab": {
          "base_uri": "https://localhost:8080/"
        },
        "id": "2Zfsq4GvLblH",
        "outputId": "a74d3fb1-8c49-4c6e-ee1c-b465bfa2def3"
      },
      "source": [
        "# Python3 Program to find the smallest\n",
        "# positive missing number\n",
        "\n",
        "\n",
        "def solution(A): # Our original array\n",
        "\n",
        "\tm = max(A) # Storing maximum value\n",
        "\tif m < 1:\n",
        "\n",
        "\t\t# In case all values in our array are negative\n",
        "\t\treturn 1\n",
        "\tif len(A) == 1:\n",
        "\n",
        "\t\t# If it contains only one element\n",
        "\t\treturn 2 if A[0] == 1 else 1\n",
        "\tl = [0] * m\n",
        "\tfor i in range(len(A)):\n",
        "\t\tif A[i] > 0:\n",
        "\t\t\tif l[A[i] - 1] != 1:\n",
        "\n",
        "\t\t\t\t# Changing the value status at the index of our list\n",
        "\t\t\t\tl[A[i] - 1] = 1\n",
        "\tfor i in range(len(l)):\n",
        "\n",
        "\t\t# Encountering first 0, i.e, the element with least value\n",
        "\t\tif l[i] == 0:\n",
        "\t\t\treturn i + 1\n",
        "\t\t\t# In case all values are filled between 1 and m\n",
        "\treturn i + 2\n",
        "\n",
        "# Driver Code\n",
        "A = [0, 1, 2, -10, -20]\n",
        "print(solution(A))\n"
      ],
      "execution_count": null,
      "outputs": [
        {
          "output_type": "stream",
          "text": [
            "3\n"
          ],
          "name": "stdout"
        }
      ]
    },
    {
      "cell_type": "code",
      "metadata": {
        "colab": {
          "base_uri": "https://localhost:8080/"
        },
        "id": "99y2XwZ5jJ9z",
        "outputId": "1727effa-5a28-4ea4-fb09-21c38a390f04"
      },
      "source": [
        "\n",
        "\n",
        "def firstMissingPositive(A):\n",
        "    seen={}\n",
        "    if(max(A)<1):\n",
        "        return 1\n",
        "    for ele in A:\n",
        "        seen[ele]=True\n",
        "\n",
        "    for i in range(1,len(A)+2): \n",
        "        if(i not in seen):\n",
        "            return i \n",
        "\n",
        "\n",
        "A = [0, 1, 2, -10, -20]\n",
        "print(firstMissingPositive(A))\n",
        "\n",
        "\n",
        "seen={}\n",
        "\n",
        "for ele in A:\n",
        "    seen[ele]=True\n",
        "\n",
        "for i in range(1,len(A)+2): \n",
        "  print(i)"
      ],
      "execution_count": null,
      "outputs": [
        {
          "output_type": "stream",
          "text": [
            "3\n",
            "1\n",
            "2\n",
            "3\n",
            "4\n",
            "5\n",
            "6\n"
          ],
          "name": "stdout"
        }
      ]
    },
    {
      "cell_type": "code",
      "metadata": {
        "colab": {
          "base_uri": "https://localhost:8080/"
        },
        "id": "caCXaDqLRd39",
        "outputId": "67048acb-118b-4c17-fdc8-704d2b1579a0"
      },
      "source": [
        "def solution(S):\n",
        "    occurrences = [0] * 26\n",
        "\n",
        "    for i in range(len(S)):\n",
        "        occurrences[ord(S[i]) - ord('a')] += 1\n",
        "\n",
        "    best_char = 'a'\n",
        "    best_res = 0\n",
        "\n",
        "    for i in range(1, 26):\n",
        "        if occurrences[i] >= best_res:\n",
        "            best_char = chr(ord('a') + i)\n",
        "            best_res = occurrences[i]\n",
        "\n",
        "    return best_char\n",
        "\n",
        "\n",
        "\n",
        "print(solution('dzzzzzzfdsddasasamatteroffactthisthingisffdsadsadsadasdsadsadasiwenttopickoninslasweekasdfghjklzxcvbnmeqweqweqweqwdasdasdasdasczdasdasdsadasdadasdasdasdasdasdasdasdasdazxxzxxscxsdsdsdsdsdsdsdsdzxzdsdsdsdsdszxca'))"
      ],
      "execution_count": null,
      "outputs": [
        {
          "output_type": "stream",
          "text": [
            "s\n"
          ],
          "name": "stdout"
        }
      ]
    },
    {
      "cell_type": "code",
      "metadata": {
        "colab": {
          "base_uri": "https://localhost:8080/"
        },
        "id": "H5IQupvnbUub",
        "outputId": "dfe9489a-0c91-49f8-e6cb-332a1341c953"
      },
      "source": [
        "import re\n",
        "\n",
        "a='234\\n er\\n4 56\\n'\n",
        "s=[x for x in a.split(\"\\n\")]\n",
        "f=''.join(s)\n",
        "print(re.findall(r'\\d+',f))\n",
        "print(s)"
      ],
      "execution_count": null,
      "outputs": [
        {
          "output_type": "stream",
          "text": [
            "['234', '4', '56']\n",
            "['234', ' er', '4 56', '']\n"
          ],
          "name": "stdout"
        }
      ]
    },
    {
      "cell_type": "code",
      "metadata": {
        "colab": {
          "base_uri": "https://localhost:8080/"
        },
        "id": "QfV6JdeGSZWg",
        "outputId": "a1d4ab6f-e106-4829-f8bf-f5584da35560"
      },
      "source": [
        "S='zzzzzziwenttopickoninslasweekasdfghjklzxcvbnm'\n",
        "\n",
        "occurrences = [0] * 26\n",
        "\n",
        "for i in range(len(S)):\n",
        "    occurrences[ord(S[i]) - ord('a')] += 1\n",
        "\n",
        "best_char='a'\n",
        "best_res=0\n",
        "for i in range(1, 26):\n",
        "    if occurrences[i] >= best_res:\n",
        "        best_char = chr(ord('a') + i)\n",
        "        best_res = occurrences[i]\n",
        "print(best_res)\n",
        "print(best_char)\n",
        "print(occurrences)"
      ],
      "execution_count": null,
      "outputs": [
        {
          "output_type": "stream",
          "text": [
            "7\n",
            "z\n",
            "[2, 1, 2, 1, 3, 1, 1, 1, 3, 1, 3, 2, 1, 4, 2, 1, 0, 0, 3, 2, 0, 1, 2, 1, 0, 7]\n"
          ],
          "name": "stdout"
        }
      ]
    },
    {
      "cell_type": "code",
      "metadata": {
        "colab": {
          "base_uri": "https://localhost:8080/"
        },
        "id": "8J7dwNMzSCP1",
        "outputId": "173b71cb-9032-40db-eec4-a9d22411cd05"
      },
      "source": [
        "print(ord('b'))"
      ],
      "execution_count": null,
      "outputs": [
        {
          "output_type": "stream",
          "text": [
            "98\n"
          ],
          "name": "stdout"
        }
      ]
    },
    {
      "cell_type": "code",
      "metadata": {
        "colab": {
          "base_uri": "https://localhost:8080/"
        },
        "id": "XEnc4o7eOvFk",
        "outputId": "8284ca77-d5a8-4cc4-f45b-1b5d5b23ece1"
      },
      "source": [
        "s = \"i like this program very much\"\n",
        "words = s.split(' ')\n",
        "string =[]\n",
        "for word in words:\n",
        "    string.insert(0,word)\n",
        " \n",
        "print(\"Reversed String:\")\n",
        "print(\" \".join(string))"
      ],
      "execution_count": null,
      "outputs": [
        {
          "output_type": "stream",
          "text": [
            "Reversed String:\n",
            "much very program this like i\n"
          ],
          "name": "stdout"
        }
      ]
    },
    {
      "cell_type": "code",
      "metadata": {
        "colab": {
          "base_uri": "https://localhost:8080/"
        },
        "id": "y9m-DO5-Tuqx",
        "outputId": "dbe30c30-2d2b-4924-d50d-4fcfb4295ce0"
      },
      "source": [
        "#Given an array of integers nums and an integer target, return indices of the two numbers such that they add up to target\n",
        "def twosum(nums=(6, 7, 11, 15, 3, 6, 5, 3), target=6):\n",
        "    #lookup = dict(((v, i) for i, v in enumerate(nums)))\n",
        "    lookup={v:i for i, v in enumerate(nums) }\n",
        "    for i,v in enumerate(nums):\n",
        "      if lookup.get(target-v,i)!=i:\n",
        "        return  (i+1, lookup.get(target-v)+1)\n",
        "        break\n",
        "\n",
        "'''\n",
        "    return next(( (i+1, lookup.get(target-v)+1) \n",
        "            for i, v in enumerate(nums) \n",
        "                if lookup.get(target-v, i) != i), None)\n",
        "''' \n",
        "\n",
        "print(twosum())"
      ],
      "execution_count": null,
      "outputs": [
        {
          "output_type": "stream",
          "text": [
            "(5, 8)\n"
          ],
          "name": "stdout"
        }
      ]
    },
    {
      "cell_type": "code",
      "metadata": {
        "colab": {
          "base_uri": "https://localhost:8080/"
        },
        "id": "wrK7pLNZcGo2",
        "outputId": "008a0b28-72c9-4e6b-c47b-020aa38911b6"
      },
      "source": [
        "matrix = [[1,2,3],[4,5,6],[7,8,9]]\n",
        "for i in range(len(matrix)):\n",
        "  for j in range(len(matrix[i])):\n",
        "    print(matrix[i][j])"
      ],
      "execution_count": null,
      "outputs": [
        {
          "output_type": "stream",
          "text": [
            "1\n",
            "2\n",
            "3\n",
            "4\n",
            "5\n",
            "6\n",
            "7\n",
            "8\n",
            "9\n"
          ],
          "name": "stdout"
        }
      ]
    },
    {
      "cell_type": "code",
      "metadata": {
        "colab": {
          "base_uri": "https://localhost:8080/"
        },
        "id": "-lL6Z6Ummyl_",
        "outputId": "52bbdc17-f15d-44c0-c4b0-a2f2927d4c9f"
      },
      "source": [
        "#recursive approach\n",
        "\n",
        "def printdata(arr,i,j,m,n):\n",
        "  '''\n",
        "  arr\n",
        "  i ,j :starting index of matrix, row\n",
        "  m length of matrix\n",
        "  n number of columns \n",
        "\n",
        "  '''\n",
        "\n",
        "  if(i>=m or j>=n):\n",
        "    return\n",
        "\n",
        "  #print the first row\n",
        "  for p in range(i,n):\n",
        "    print(arr[i][p],end=\" \")\n",
        "\n",
        "  #print the last row\n",
        "\n",
        "  for q in range(i+1,m):\n",
        "    print(arr[q][n-1],end=\" \")\n",
        "\n",
        "\n",
        "  #print last row if last row and first row are not the same\n",
        "  if ((m-1) != i):\n",
        "    for p in range(n-2,j-1,-1):\n",
        "      print(arr[m-1][p],end=\" \")\n",
        "\n",
        "  #print first column if first and last column are not the same\n",
        "  if ((n-1)!=j):\n",
        "    for p in range(m-2, i ,-1):\n",
        "      print(arr[p][j],end=\" \")\n",
        "\n",
        "  printdata(arr,i + 1,j + 1,m - 1,n - 1)\n",
        "\n",
        "\n",
        "\n",
        "# Driver code\n",
        "R = 5\n",
        "C = 4\n",
        "arr = [[1, 2, 3, 4],\n",
        "       [5, 6, 7, 8],\n",
        "       [9, 10, 11, 12],\n",
        "       [13, 14, 15, 16],\n",
        "       [20, 21, 22, 23]\n",
        "       ]\n",
        "\n",
        "\n",
        "printdata(arr,0,0,R,C)\n",
        "\n"
      ],
      "execution_count": null,
      "outputs": [
        {
          "output_type": "stream",
          "text": [
            "1 2 3 4 8 12 16 23 22 21 20 13 9 5 6 7 11 15 14 10 "
          ],
          "name": "stdout"
        }
      ]
    },
    {
      "cell_type": "code",
      "metadata": {
        "colab": {
          "base_uri": "https://localhost:8080/"
        },
        "id": "YJvDTMQTjsjT",
        "outputId": "fd1592a0-5106-46c8-c7aa-3e3d96fae5b5"
      },
      "source": [
        "\n",
        "n=5\n",
        "m=3\n",
        "\n",
        "queries = [[1,2,100],[2,5,100],[3,4,100]]\n",
        "\n",
        "#for _ in range(m):\n",
        "  #   queries.append(list(map(int, queries.rstrip().split())))\n",
        "\n",
        "#result = arrayManipulation(n, queries)\n",
        "\n",
        "#fptr.write(str(result) + '\\n')\n",
        "\n",
        "#fptr.close()\n",
        "\n",
        "\n",
        "\n",
        "arr = [0]*n\n",
        "for i in queries:\n",
        "      arr[i[0] - 1] += i[2]\n",
        "      if i[1] != len(arr):\n",
        "          arr[i[1]] -= i[2]\n",
        "    \n",
        "maxval = 0\n",
        "itt = 0\n",
        "print(arr)\n",
        "for q in arr:\n",
        "    itt += q\n",
        "    if itt > maxval:\n",
        "        maxval = itt\n",
        "print(maxval)\n",
        "\n",
        "\n",
        "\n",
        "def arrayManipulation(n, queries):\n",
        "  arr = [0]*n\n",
        "  '''for i in queries:\n",
        "      arr[i[0] - 1] += i[2]\n",
        "      arr[i[1]] -= i[2]\n",
        "  '''\n",
        "  for i in queries:\n",
        "      arr[i[0] - 1] += i[2]\n",
        "      if i[1] != len(arr):\n",
        "          arr[i[1]] -= i[2]\n",
        "  maxval = 0\n",
        "  itt = 0\n",
        "  print(arr)\n",
        "  for q in arr:\n",
        "      itt += q\n",
        "      if itt > maxval:\n",
        "          maxval = itt\n",
        "  return maxval\n"
      ],
      "execution_count": null,
      "outputs": [
        {
          "output_type": "stream",
          "text": [
            "[100, 100, 0, 0, -100]\n",
            "200\n"
          ],
          "name": "stdout"
        }
      ]
    },
    {
      "cell_type": "code",
      "metadata": {
        "colab": {
          "base_uri": "https://localhost:8080/"
        },
        "id": "K1OnWoRrdJl5",
        "outputId": "219b5992-bd00-45f2-d456-84ab161aa074"
      },
      "source": [
        "\n",
        "arr=[1,3,4,2,6,5]\n",
        "ref_arr = sorted(arr)\n",
        "index_dict = {v: i for i,v in enumerate(arr)}\n",
        "\n",
        "print(index_dict)\n",
        "\n",
        "print(index_dict[1])"
      ],
      "execution_count": null,
      "outputs": [
        {
          "output_type": "stream",
          "text": [
            "{1: 0, 3: 1, 4: 2, 2: 3, 6: 4, 5: 5}\n",
            "0\n"
          ],
          "name": "stdout"
        }
      ]
    },
    {
      "cell_type": "code",
      "metadata": {
        "colab": {
          "base_uri": "https://localhost:8080/"
        },
        "id": "XN4w-cXinPVv",
        "outputId": "f5fea002-2b52-44b4-996b-54f8b5a6708a"
      },
      "source": [
        "n = 5\n",
        "\n",
        "m = 3\n",
        "\n",
        "queries = [[1,2,100],[2,5,100],[3,4,100]]\n",
        "\n",
        "#for _ in range(m):\n",
        "  #   queries.append(list(map(int, queries.rstrip().split())))\n",
        "\n",
        "#result = arrayManipulation(n, queries)\n",
        "\n",
        "#fptr.write(str(result) + '\\n')\n",
        "\n",
        "#fptr.close()\n",
        "\n",
        "\n",
        "\n",
        "arr = [0]*n\n",
        "for i in queries:\n",
        "    print(i[2])"
      ],
      "execution_count": null,
      "outputs": [
        {
          "output_type": "stream",
          "text": [
            "100\n",
            "100\n",
            "100\n"
          ],
          "name": "stdout"
        }
      ]
    },
    {
      "cell_type": "code",
      "metadata": {
        "colab": {
          "base_uri": "https://localhost:8080/"
        },
        "id": "7-5zayefGNUZ",
        "outputId": "c10b7876-e158-4301-f4c5-42447993119e"
      },
      "source": [
        "r=[1,2,3,4,5,6]\n",
        "\n",
        "print (r[::-1])"
      ],
      "execution_count": null,
      "outputs": [
        {
          "output_type": "stream",
          "text": [
            "[6, 5, 4, 3, 2, 1]\n"
          ],
          "name": "stdout"
        }
      ]
    },
    {
      "cell_type": "code",
      "metadata": {
        "colab": {
          "base_uri": "https://localhost:8080/"
        },
        "id": "dtth2Gs4UTR5",
        "outputId": "e4ac8a64-ae2b-44a7-f970-0a61d63c51d6"
      },
      "source": [
        "\n",
        "r=3\n",
        "arr=[1,3,9,9,27,81,81]\n",
        "\n",
        "map_arr = {}\n",
        "map_doubles = {}\n",
        "count = 0\n",
        "# Traversing the array from rear, helps avoid division\n",
        "for x in arr[::-1]:\n",
        "\n",
        "    r_x = r*x\n",
        "    r_r_x = r*r_x\n",
        "\n",
        "    # case: x is the first element (x, x*r, x*r*r)\n",
        "    count += map_doubles.get((r_x, r_r_x), 0)\n",
        "\n",
        "    # case: x is the second element (x/r, x, x*r)\n",
        "    map_doubles[(x,r_x)] = map_doubles.get((x,r_x), 0) + map_arr.get(r_x, 0)\n",
        "\n",
        "    # case: x is the third element (x/(r*r), x/r, x)\n",
        "    map_arr[x] = map_arr.get(x, 0) + 1\n",
        "\n",
        "\n",
        "print(map_doubles)\n",
        "print(map_arr)\n",
        "print(count)"
      ],
      "execution_count": null,
      "outputs": [
        {
          "output_type": "stream",
          "text": [
            "{(81, 243): 0, (27, 81): 2, (9, 27): 2, (3, 9): 2, (1, 3): 1}\n",
            "{81: 2, 27: 1, 9: 2, 3: 1, 1: 1}\n",
            "8\n"
          ],
          "name": "stdout"
        }
      ]
    },
    {
      "cell_type": "code",
      "metadata": {
        "colab": {
          "base_uri": "https://localhost:8080/"
        },
        "id": "U2_I4Ue9T6qj",
        "outputId": "6fe95b0c-8a3f-4901-b65c-27ab514fb663"
      },
      "source": [
        "import collections\n",
        "\n",
        "#from collections import defaultdict\n",
        "\n",
        "\n",
        "queries=[[1, 5],[1, 6],[3, 2],[1, 10],[1, 10],[1, 6],[2, 5],[3, 2]]\n",
        "\n",
        "results=[]\n",
        "arr = dict()\n",
        "\n",
        "freq = collections.defaultdict(int)\n",
        "#freq=dict()\n",
        "\n",
        "for x in queries:\n",
        "    ops, value =x\n",
        "    initial = arr.get(value,0)\n",
        "    j=freq.get(value)\n",
        "    #print(initial)\n",
        "    #print(freq.get(value))\n",
        "    if ops==3:\n",
        "        #results.append[1 if freq.get(value)   else 0]\n",
        "        if freq.get(value):\n",
        "          results.append(1)\n",
        "        else:\n",
        "          results.append(0)\n",
        "\n",
        "    #if 1==0:\n",
        "      #do nothing\n",
        "    if ops!=3:\n",
        "        freq[initial]-=1\n",
        "        if ops==1:\n",
        "            arr[value]=initial+1\n",
        "        elif ops==2 and initial:\n",
        "            arr[value]-=1\n",
        "    freq[arr.get(value,0)]+=1\n",
        "#print(results)  \n",
        "\n",
        "\n",
        "\n",
        "def freqQuery(queries):\n",
        "    results = []\n",
        "    lookup = dict()\n",
        "    freqs = collections.defaultdict(set)\n",
        "    for command, value in queries:\n",
        "        freq = lookup.get(value, 0)\n",
        "        if command == 1:\n",
        "            lookup[value] = freq + 1\n",
        "            freqs[freq].discard(value)\n",
        "            freqs[freq + 1].add(value)\n",
        "        elif command == 2:\n",
        "            lookup[value] = max(0, freq - 1)\n",
        "            freqs[freq].discard(value)\n",
        "            freqs[freq - 1].add(value)\n",
        "        elif command == 3:\n",
        "            results.append(1 if freqs[value] else 0)\n",
        "    print(freqs.items())\n",
        "    \n",
        "freqQuery(queries)    \n",
        "\n",
        "\n"
      ],
      "execution_count": null,
      "outputs": [
        {
          "output_type": "stream",
          "text": [
            "dict_items([(0, {5}), (1, set()), (2, {10, 6})])\n"
          ],
          "name": "stdout"
        }
      ]
    },
    {
      "cell_type": "code",
      "metadata": {
        "colab": {
          "base_uri": "https://localhost:8080/"
        },
        "id": "uvxI-x9raL2_",
        "outputId": "2043e705-3e74-4b2f-90e2-1b6865f04e93"
      },
      "source": [
        "import collections\n",
        "\n",
        "dict = collections.defaultdict(list)\n",
        "dict[1]=[1,2,3]\n",
        "dict[2]=[4,5,6]\n",
        "\n",
        "print (dict)\n",
        "\n",
        "if dict.get(2) == True:\n",
        "    print (True)\n",
        "else:\n",
        "    print (False)"
      ],
      "execution_count": null,
      "outputs": [
        {
          "output_type": "stream",
          "text": [
            "defaultdict(<class 'list'>, {1: [1, 2, 3], 2: [4, 5, 6]})\n",
            "False\n"
          ],
          "name": "stdout"
        }
      ]
    },
    {
      "cell_type": "code",
      "metadata": {
        "colab": {
          "base_uri": "https://localhost:8080/"
        },
        "id": "ToRmIL-Yvt-l",
        "outputId": "db1685e4-8b3d-4fd1-b34a-781c7fc73999"
      },
      "source": [
        "import collections\n",
        "s = [('yellow', 1), ('blue', 2), ('yellow', 3), ('blue', 4), ('red', 1)]\n",
        "d = collections.defaultdict(list)\n",
        "for k, v in s:\n",
        "  d[k].append(v)\n",
        "\n",
        "print(d.items())\n",
        "print(d['yellow'])"
      ],
      "execution_count": null,
      "outputs": [
        {
          "output_type": "stream",
          "text": [
            "dict_items([('yellow', [1, 3]), ('blue', [2, 4]), ('red', [1])])\n",
            "[1, 3]\n"
          ],
          "name": "stdout"
        }
      ]
    },
    {
      "cell_type": "code",
      "metadata": {
        "colab": {
          "base_uri": "https://localhost:8080/"
        },
        "id": "_s2sPkkdM8-I",
        "outputId": "886e05a4-8cc3-42d1-e0aa-1a897eb91baa"
      },
      "source": [
        "from collections import defaultdict\n",
        "\n",
        "\n",
        "def ransom_note(magazine, ransom):\n",
        "    dicty = defaultdict(int)\n",
        "    for word in magazine:\n",
        "        dicty[word]+=1\n",
        "    for word in ransom: \n",
        "        if dicty[word]==0 : return False \n",
        "        dicty[word]-=1\n",
        "    return True \n",
        "\n",
        "\n",
        "magazine=['two', 'times', 'three', 'is', 'not', 'four']\n",
        "ransom=['two', 'times', 'two', 'is', 'four']\n",
        "dicty = defaultdict(int)\n",
        "for word in magazine:\n",
        "    dicty[word]+=1\n",
        "for word in ransom: \n",
        "    #if dicty[word]==0 : #return False \n",
        "    dicty[word]-=1\n",
        "\n",
        "#print(dicty.items())\n",
        "print(ransom_note(magazine, ransom))\n",
        "\n",
        "\n",
        "\n",
        "\n",
        "\n",
        "def checkMagazine(magazine, ransom):\n",
        "    dicty = defaultdict(int)\n",
        "    for word in magazine:\n",
        "        dicty[word]+=1\n",
        "    for word in ransom: \n",
        "        if dicty[word]==0 : return 'No' \n",
        "        dicty[word]-=1\n",
        "    return 'Yes' \n",
        "\n"
      ],
      "execution_count": null,
      "outputs": [
        {
          "output_type": "stream",
          "text": [
            "False\n"
          ],
          "name": "stdout"
        }
      ]
    },
    {
      "cell_type": "code",
      "metadata": {
        "colab": {
          "base_uri": "https://localhost:8080/"
        },
        "id": "BjAE08DR3uN8",
        "outputId": "1c72cc73-01f1-49ac-ef38-3ac085b13472"
      },
      "source": [
        "#bubble sort\n",
        "a=[4,2,3,1]\n",
        "numSwaps = 0\n",
        "\n",
        "while True:\n",
        "    SwapsFlag = False\n",
        "    for i in range(len(a)-1):\n",
        "        if a[i] > a[i+1]:\n",
        "            a[i], a[i+1] = a[i+1], a[i]\n",
        "            numSwaps += 1\n",
        "            SwapsFlag = True\n",
        "    if not SwapsFlag:\n",
        "        break\n",
        "\n",
        "\n",
        "print('Array is sorted in', numSwaps, 'swaps.')\n",
        "print('First Element:', a[0])\n",
        "print('Last Element:', a[-1])"
      ],
      "execution_count": null,
      "outputs": [
        {
          "output_type": "stream",
          "text": [
            "Array is sorted in 5 swaps.\n",
            "First Element: 1\n",
            "Last Element: 4\n"
          ],
          "name": "stdout"
        }
      ]
    },
    {
      "cell_type": "code",
      "metadata": {
        "id": "mWsW3e6IAidh"
      },
      "source": [
        "#toys\n",
        "\n",
        "def maximumToys(prices, k):\n",
        "    prices.sort()\n",
        "    count = 0\n",
        "    for i in prices:\n",
        "        if (i <= k):\n",
        "            count += 1\n",
        "            k -= i\n",
        "        else:\n",
        "            break\n",
        "    return count\n",
        "\n"
      ],
      "execution_count": null,
      "outputs": []
    },
    {
      "cell_type": "code",
      "metadata": {
        "id": "KkNLwfMokDs4"
      },
      "source": [
        "from functools import cmp_to_key\n",
        "class Player:\n",
        "    def __init__(self, name, score):\n",
        "        self.name=name\n",
        "        self.score=score\n",
        "        \n",
        "    def __repr__(self):\n",
        "        return{'name':self.name,'age':self.score}\n",
        "        \n",
        "        \n",
        "    def comparator(a, b):\n",
        "        if a.score>b.score:\n",
        "            return -1\n",
        "        if a.score<b.score:\n",
        "            return 1\n",
        "        if a.name>b.name:\n",
        "            return 1\n",
        "        if a.score==b.score:\n",
        "            if a.name>b.name:\n",
        "                return 1\n",
        "            elif a.name<b.name:\n",
        "                return -1\n",
        "            else:\n",
        "                return 0\n",
        "        \n",
        "\n",
        "n = int(input())\n",
        "data = []\n",
        "for i in range(n):\n",
        "    name, score = input().split()\n",
        "    score = int(score)\n",
        "    player = Player(name, score)\n",
        "    data.append(player)\n",
        "    \n",
        "data = sorted(data, key=cmp_to_key(Player.comparator))\n",
        "for i in data:\n",
        "    print(i.name, i.score)"
      ],
      "execution_count": null,
      "outputs": []
    },
    {
      "cell_type": "code",
      "metadata": {
        "colab": {
          "base_uri": "https://localhost:8080/"
        },
        "id": "FcnSMYmuHj18",
        "outputId": "3d397b8f-e749-4da2-f3ed-50fc60daa3e5"
      },
      "source": [
        "#---------------------------------------\n",
        "# Merge Sort\n",
        "#---------------------------------------\n",
        "import sys\n",
        "\n",
        "def merge_sort(A):\n",
        "\tmerge_sort2(A, 0, len(A)-1)\n",
        "\t\n",
        "def merge_sort2(A, first, last):\n",
        "\tif first < last:\n",
        "\t\tmiddle = (first + last)//2\n",
        "\t\tmerge_sort2(A, first, middle)\n",
        "\t\tmerge_sort2(A, middle+1, last)\n",
        "\t\tmerge(A, first, middle, last)\n",
        "\t\t\n",
        "def merge(A, first, middle, last):\n",
        "\tL = A[first:middle+1]\n",
        "\tR = A[middle+1:last+1]\n",
        "\tL.append(sys.maxsize)\n",
        "\tR.append(sys.maxsize)\n",
        "\ti = j = 0\n",
        "\t\n",
        "\tfor k in range (first, last+1):\n",
        "\t\tif L[i] <= R[j]:\n",
        "\t\t\tA[k] = L[i]\n",
        "\t\t\ti += 1\n",
        "\t\telse:\n",
        "\t\t\tA[k] = R[j]\n",
        "\t\t\tj += 1\n",
        "\t\t\t\n",
        "A = [5,9,1,2,4,8,6,3,7,55,78,99,109,32,28,16,567]\n",
        "A = [9,5]\n",
        "print(A)\n",
        "merge_sort(A)\n",
        "print(A)"
      ],
      "execution_count": null,
      "outputs": [
        {
          "output_type": "stream",
          "text": [
            "[9, 5]\n",
            "[5, 9]\n"
          ],
          "name": "stdout"
        }
      ]
    },
    {
      "cell_type": "code",
      "metadata": {
        "colab": {
          "base_uri": "https://localhost:8080/"
        },
        "id": "GpI58G47J7i4",
        "outputId": "60c52481-5968-477b-ecce-7fa0c7460784"
      },
      "source": [
        "def merge(a1, a2):\n",
        "    swaps, i, j, result, m, n = 0, 0, 0, [], len(a1), len(a2)\n",
        "    ra = result.append\n",
        "    while i < m and j < n:\n",
        "        if a1[i] <= a2[j]:\n",
        "            ra(a1[i])\n",
        "            i += 1\n",
        "        else:\n",
        "            ra(a2[j])\n",
        "            j += 1\n",
        "            swaps += m - i\n",
        "    result += a1[i:]\n",
        "    result += a2[j:]    \n",
        "    return swaps, result\n",
        "    \n",
        "def msort(arr):\n",
        "    n = len(arr)\n",
        "    mid = n // 2\n",
        "    if n > 1:\n",
        "        left_swaps, left_result = msort(arr[:mid])\n",
        "        right_swaps, right_result = msort(arr[mid:])\n",
        "        m_swaps, result = merge(left_result, right_result)\n",
        "        return m_swaps + left_swaps + right_swaps, result\n",
        "    return 0,arr\n",
        "\n",
        "\n",
        "print(msort([9,5])[0])"
      ],
      "execution_count": null,
      "outputs": [
        {
          "output_type": "stream",
          "text": [
            "1\n"
          ],
          "name": "stdout"
        }
      ]
    },
    {
      "cell_type": "code",
      "metadata": {
        "colab": {
          "base_uri": "https://localhost:8080/"
        },
        "id": "e3Vgy7xFJa0-",
        "outputId": "5d7abe85-50f3-4ad3-dd07-94a921ccb0db"
      },
      "source": [
        "d=7\n",
        "a=[1,2,3,4,5]\n",
        "\n",
        "\n",
        "\n",
        "\n",
        "new_idx = d % len(a)\n",
        "print(new_idx)\n",
        "print(a[:new_idx]+a[new_idx:])\n",
        "\n",
        "\n",
        "def rotLeft(a, d):\n",
        "    new_idx = d % len(a)\n",
        "    return a[new_idx:] + a[:new_idx]\n",
        "\n",
        "\n"
      ],
      "execution_count": null,
      "outputs": [
        {
          "output_type": "stream",
          "text": [
            "2\n",
            "[1, 2, 3, 4, 5]\n"
          ],
          "name": "stdout"
        }
      ]
    },
    {
      "cell_type": "code",
      "metadata": {
        "colab": {
          "base_uri": "https://localhost:8080/"
        },
        "id": "XFapUNKuqftJ",
        "outputId": "0da3afbf-ef4e-4f9e-f2a2-f5089322a5fc"
      },
      "source": [
        "a=[1,2,3,4,5]\n",
        "\n",
        "\n",
        "\n",
        "print(sum(a[0:2]))\n",
        "\n"
      ],
      "execution_count": null,
      "outputs": [
        {
          "output_type": "stream",
          "text": [
            "3\n"
          ],
          "name": "stdout"
        }
      ]
    },
    {
      "cell_type": "code",
      "metadata": {
        "id": "GJ7OFMtv5ZVw"
      },
      "source": [
        "a=[1,2,3,4,5]\n"
      ],
      "execution_count": null,
      "outputs": []
    },
    {
      "cell_type": "code",
      "metadata": {
        "colab": {
          "base_uri": "https://localhost:8080/"
        },
        "id": "7gO0LnQwSh5c",
        "outputId": "13952ad5-7f67-4aa5-e549-9fb44ff57712"
      },
      "source": [
        "A=[1,2,3,4,5]\n",
        "for i in reversed(range(len(A))):\n",
        "  print(i)\n",
        "\n",
        "  \n",
        "\n",
        "\n"
      ],
      "execution_count": null,
      "outputs": [
        {
          "output_type": "stream",
          "text": [
            "4\n",
            "3\n",
            "2\n",
            "1\n",
            "0\n"
          ],
          "name": "stdout"
        }
      ]
    },
    {
      "cell_type": "code",
      "metadata": {
        "colab": {
          "base_uri": "https://localhost:8080/"
        },
        "id": "9KbboQ7rLd9Y",
        "outputId": "7a5a3f2f-bf8f-48d0-dd95-0f545a6934a8"
      },
      "source": [
        "arr=[[1, 1, 1, 0, 0, 0],\n",
        "[0, 1, 0, 0, 0, 0],\n",
        "[1, 1, 1, 0, 0, 0],\n",
        "[0, 0, 2, 4, 4, 0],\n",
        "[0, 0, 0, 2, 0, 0],\n",
        "[0, 0, 1, 2, 4, 0]\n",
        "]\n",
        "\n",
        "count = -64\n",
        "#row = 1\n",
        "#col = 1\n",
        "for row in range(1,4):\n",
        "  for col in range(1,4):\n",
        "    temp = arr[row][col] + arr[row][col+1]+arr[row][col+2]+arr[row+1][col+1] + arr[row+2][col]+arr[row+2][col+1]+ arr[row+2][col+2]\n",
        "    if temp > count:\n",
        "        count = temp\n",
        "print(count)"
      ],
      "execution_count": null,
      "outputs": [
        {
          "output_type": "stream",
          "text": [
            "19\n"
          ],
          "name": "stdout"
        }
      ]
    },
    {
      "cell_type": "code",
      "metadata": {
        "id": "u1h0VV4sN6J6"
      },
      "source": [
        "def hourglassSum(arr):\n",
        "    count = -64\n",
        "    for row in range(1,4):\n",
        "        for col in range(1,4):\n",
        "            temp = arr[row][col] + arr[row][col+1]+arr[row][col+2]+arr[row+1][col+1] + arr[row+2][col]+arr[row+2][col+1]+ arr[row+2][col+2]\n",
        "            if temp > count:\n",
        "                count = temp\n",
        "    return count\n",
        "\n",
        "\n",
        "\n",
        "def hourglassSum(arr):\n",
        "    count = -64\n",
        "    row = 0\n",
        "    col = 0\n",
        "    while row < 4 :\n",
        "        temp = arr[row][col] + arr[row][col+1]+arr[row][col+2]+arr[row+1][col+1] + arr[row+2][col]+arr[row+2][col+1]+ arr[row+2][col+2]\n",
        "        if temp > count:\n",
        "            count = temp\n",
        "        col +=1\n",
        "        if col == 4:\n",
        "            col = 0\n",
        "            row +=1\n",
        "    return count"
      ],
      "execution_count": null,
      "outputs": []
    },
    {
      "cell_type": "code",
      "metadata": {
        "colab": {
          "base_uri": "https://localhost:8080/"
        },
        "id": "hp5fy4s_m3u_",
        "outputId": "dd2c06db-6e40-41f3-f75a-bce559d67584"
      },
      "source": [
        "\n",
        "s='tried'\n",
        "for i, char in enumerate(s[1:]):\n",
        "  print(char,i)\n",
        "  "
      ],
      "execution_count": null,
      "outputs": [
        {
          "output_type": "stream",
          "text": [
            "r 0\n",
            "i 1\n",
            "e 2\n",
            "d 3\n"
          ],
          "name": "stdout"
        }
      ]
    },
    {
      "cell_type": "code",
      "metadata": {
        "id": "Koe_G7zDv3rh"
      },
      "source": [
        "def substrCount(n, s):\n",
        "    count = 0\n",
        "\n",
        "    prevprevChar, prevprevCount = None, 0\n",
        "    prevChar, prevCount = None, 0\n",
        "    currentChar, currentCount = None, 0\n",
        "\n",
        "    for char in s:\n",
        "        if char != currentChar:\n",
        "            prevprevChar, prevprevCount = prevChar, prevCount\n",
        "            prevChar, prevCount = currentChar, currentCount\n",
        "            currentChar, currentCount = char, 0\n",
        "\n",
        "        currentCount += 1\n",
        "        count += currentCount\n",
        "\n",
        "        if prevCount == 1 and prevprevChar == currentChar and currentCount <= prevprevCount:\n",
        "            count += 1\n",
        "\n",
        "    return count"
      ],
      "execution_count": null,
      "outputs": []
    },
    {
      "cell_type": "code",
      "metadata": {
        "id": "bWfeb8rsPB_D"
      },
      "source": [
        ""
      ],
      "execution_count": null,
      "outputs": []
    },
    {
      "cell_type": "code",
      "metadata": {
        "colab": {
          "base_uri": "https://localhost:8080/"
        },
        "id": "EmEuHhn_wgDU",
        "outputId": "62e4c81b-04b7-49f4-dbaf-dc40e4dd7e40"
      },
      "source": [
        "\n",
        "s='aadaada'\n",
        "\n",
        "count = 0\n",
        "\n",
        "prevprevChar, prevprevCount = None, 0\n",
        "prevChar, prevCount = None, 0\n",
        "currentChar, currentCount = None, 0\n",
        "\n",
        "for char in s:\n",
        "    if char != currentChar:\n",
        "        prevprevChar, prevprevCount = prevChar, prevCount\n",
        "        prevChar, prevCount = currentChar, currentCount\n",
        "        currentChar, currentCount = char, 0\n",
        "\n",
        "    currentCount += 1\n",
        "    count += currentCount\n",
        "\n",
        "    print(char,currentChar,prevChar,prevprevChar)\n",
        "    print(currentCount,prevCount,prevprevCount)"
      ],
      "execution_count": null,
      "outputs": [
        {
          "output_type": "stream",
          "text": [
            "a a None None\n",
            "1 0 0\n",
            "a a None None\n",
            "2 0 0\n",
            "d d a None\n",
            "1 2 0\n",
            "a a d a\n",
            "1 1 2\n",
            "a a d a\n",
            "2 1 2\n",
            "d d a d\n",
            "1 2 1\n",
            "a a d a\n",
            "1 1 2\n"
          ],
          "name": "stdout"
        }
      ]
    },
    {
      "cell_type": "code",
      "metadata": {
        "id": "piXa0VoFPGNQ"
      },
      "source": [
        "def number_needed(str1, str2):\n",
        "    \n",
        "    dict_chars = dict()\n",
        "    \n",
        "    for char in str1:\n",
        "        if char in dict_chars:\n",
        "            dict_chars[char] += 1\n",
        "        else:\n",
        "            dict_chars[char] = 1\n",
        "    for char in str2:\n",
        "        if char in dict_chars:\n",
        "            dict_chars[char] -= 1\n",
        "        else:\n",
        "            dict_chars[char] = -1\n",
        "    \n",
        "    sum_diff = 0\n",
        "    \n",
        "    for char in dict_chars.keys():\n",
        "        sum_diff += abs(dict_chars[char])\n",
        "        \n",
        "    return sum_diff\n",
        "    \n",
        "a = input().strip()\n",
        "b = input().strip()\n",
        "\n",
        "print(number_needed(a, b))"
      ],
      "execution_count": null,
      "outputs": []
    },
    {
      "cell_type": "code",
      "metadata": {
        "id": "W7AcS_e4YxXR"
      },
      "source": [
        "def luckBalance(k, contests):\n",
        "    # sort from greatest luck to least luck\n",
        "    contests.sort(reverse=True)\n",
        "    luck = 0\n",
        "\n",
        "    for contest in contests:\n",
        "        if contest[1] == 0:\n",
        "            luck += contest[0]\n",
        "        elif k > 0:\n",
        "            luck += contest[0]\n",
        "            k -= 1\n",
        "        else:\n",
        "            luck -= contest[0]\n",
        "\n",
        "    return luck"
      ],
      "execution_count": null,
      "outputs": []
    },
    {
      "cell_type": "code",
      "metadata": {
        "colab": {
          "base_uri": "https://localhost:8080/"
        },
        "id": "C1-Na7hWWHyy",
        "outputId": "323c9669-1e6e-4527-ded0-27a06fe0340f"
      },
      "source": [
        "import collections\n",
        "from collections import defaultdict\n",
        "s='eggegg'\n",
        "res = collections.defaultdict(int)\n",
        "for char in s:\n",
        "    res[char] += 1\n",
        "\n",
        "\n",
        "remain_chars = dict(res)\n",
        "\n",
        "print(remain_chars)\n",
        "print(res)"
      ],
      "execution_count": null,
      "outputs": [
        {
          "output_type": "stream",
          "text": [
            "{'e': 2, 'g': 4}\n",
            "defaultdict(<class 'int'>, {'e': 2, 'g': 4})\n"
          ],
          "name": "stdout"
        }
      ]
    },
    {
      "cell_type": "code",
      "metadata": {
        "colab": {
          "base_uri": "https://localhost:8080/"
        },
        "id": "1jBFpD_Zk6nE",
        "outputId": "5ffa4eee-5b47-4fec-95a9-fb9e05defe97"
      },
      "source": [
        "from collections import Counter\n",
        "\n",
        "\n",
        "\n",
        "s='eggegg'\n",
        "t = s[::-1] # s reversed so we can search fowards not backwards\n",
        "half_sc = Counter({char:count//2 for char, count in Counter(s).items()}) # half of s's chars\n",
        "print(half_sc)\n",
        "print(Counter(s).items())"
      ],
      "execution_count": null,
      "outputs": [
        {
          "output_type": "stream",
          "text": [
            "Counter({'g': 2, 'e': 1})\n",
            "dict_items([('e', 2), ('g', 4)])\n"
          ],
          "name": "stdout"
        }
      ]
    },
    {
      "cell_type": "code",
      "metadata": {
        "id": "Qw_SEIBfOdaK"
      },
      "source": [
        "# Complete the minimumAbsoluteDifference function below.\n",
        "def minimumAbsoluteDifference(arr):\n",
        "    min_abs_diff = sys.maxsize\n",
        "    tmp_result = 0\n",
        "    arr.sort()\n",
        "    for i in range (len(arr) - 1):\n",
        "        tmp_result = abs(arr[i] - arr[i + 1])\n",
        "        if tmp_result < min_abs_diff:\n",
        "            min_abs_diff = tmp_result\n",
        "    return min_abs_diff\n"
      ],
      "execution_count": null,
      "outputs": []
    },
    {
      "cell_type": "code",
      "metadata": {
        "colab": {
          "base_uri": "https://localhost:8080/"
        },
        "id": "f6qIPQ7wVnBn",
        "outputId": "ae0c80ee-19ad-4500-bad2-4c5e03605665"
      },
      "source": [
        "\n",
        "a=[1,5,3,4,2]\n",
        "myDict = {item : 1 for index, item in enumerate(a)}\n",
        "print(myDict)\n",
        "\n",
        "'''\n",
        "count = 0\n",
        "for each in myDict:\n",
        "    if each + 1 in myDict:\n",
        "        count += 1\n",
        "print(count)\n",
        "'''\n",
        "print(set(a) & set([item + 1 for item in set(a)]))\n",
        "print(len(set(a) & set([item + 1 for item in set(a)])))\n",
        "\n",
        "\n",
        "\n",
        "\n",
        "# Complete the pairs function below.\n",
        "def pairs(k, arr):\n",
        "    return len(set(arr) & set([item + k for item in set(arr)]))"
      ],
      "execution_count": null,
      "outputs": [
        {
          "output_type": "stream",
          "text": [
            "{1: 1, 5: 1, 3: 1, 4: 1, 2: 1}\n",
            "{2, 3, 4, 5}\n",
            "4\n"
          ],
          "name": "stdout"
        }
      ]
    },
    {
      "cell_type": "code",
      "metadata": {
        "id": "SS-py93_nelk"
      },
      "source": [
        "def triplets(a, b, c):\n",
        "    a = list(sorted(set(a)))\n",
        "    b = list(sorted(set(b)))\n",
        "    c = list(sorted(set(c)))\n",
        "    \n",
        "    ai = 0\n",
        "    bi = 0\n",
        "    ci = 0\n",
        "    \n",
        "    ans = 0\n",
        "    \n",
        "    while bi < len(b):\n",
        "        while ai < len(a) and a[ai] <= b[bi]:\n",
        "            ai += 1\n",
        "        \n",
        "        while ci < len(c) and c[ci] <= b[bi]:\n",
        "            ci += 1\n",
        "        \n",
        "        ans += ai * ci\n",
        "        bi += 1\n",
        "    \n",
        "    return ans"
      ],
      "execution_count": null,
      "outputs": []
    },
    {
      "cell_type": "code",
      "metadata": {
        "colab": {
          "base_uri": "https://localhost:8080/"
        },
        "id": "ggL8_lOxHXNZ",
        "outputId": "96315f54-550c-4092-daa8-e26139f3eb13"
      },
      "source": [
        "print(5//2)"
      ],
      "execution_count": null,
      "outputs": [
        {
          "output_type": "stream",
          "text": [
            "2\n"
          ],
          "name": "stdout"
        }
      ]
    },
    {
      "cell_type": "code",
      "metadata": {
        "colab": {
          "base_uri": "https://localhost:8080/"
        },
        "id": "WjLwoPbrI18H",
        "outputId": "1b7d51f0-d419-4b5d-958c-88bdee9bfa3c"
      },
      "source": [
        "def minTime(machines, goal):\n",
        "\n",
        "    machines.sort()\n",
        "\n",
        "    low_rate = machines[0]\n",
        "    lower_bound = (goal // (len(machines) / low_rate))\n",
        "    high_rate = machines[-1]\n",
        "    upper_bound = (goal // (len(machines) / high_rate)) + 1\n",
        "\n",
        "    while lower_bound < upper_bound:\n",
        "\n",
        "        num_days = (lower_bound + upper_bound) // 2\n",
        "        total = getNumItems(machines, goal, num_days)\n",
        "        if total >= goal:\n",
        "            upper_bound = num_days\n",
        "        else:\n",
        "            lower_bound = num_days + 1\n",
        "\n",
        "    return int(lower_bound)\n",
        "\n",
        "\n",
        "def getNumItems(machines, goal, num_days):\n",
        "\n",
        "    total = 0\n",
        "\n",
        "    for machine in machines:\n",
        "        total += (num_days // machine)\n",
        "\n",
        "    return total\n",
        "\n",
        "\n",
        "machines=[2,3,2]\n",
        "goal=10\n",
        "#print(minTime(machines,goal))\n",
        "\n",
        "\n",
        "\n",
        "machines.sort()\n",
        "\n",
        "low_rate = machines[0]\n",
        "lower_bound = (goal // (len(machines) / low_rate))\n",
        "high_rate = machines[-1]\n",
        "upper_bound = (goal // (len(machines) / high_rate)) + 1\n",
        "\n",
        "\n",
        "print(low_rate)\n",
        "print(high_rate)\n",
        "print(lower_bound)\n",
        "print(upper_bound)\n",
        "\n",
        "print(10//1.5)\n",
        "print(10//(3/3))"
      ],
      "execution_count": null,
      "outputs": [
        {
          "output_type": "stream",
          "text": [
            "2\n",
            "3\n",
            "6.0\n",
            "11.0\n",
            "6.0\n"
          ],
          "name": "stdout"
        }
      ]
    },
    {
      "cell_type": "code",
      "metadata": {
        "id": "CbSpGeDOjoiY"
      },
      "source": [
        "def maximumSum(a, m):\n",
        "    prefixSum = [(a[0] % m, 1)]\n",
        "    for i in xrange(1,len(a)):\n",
        "        prefixSum.append(((prefixSum[i-1][0] + a[i] % m) % m, i+1))\n",
        "    prefixSum.sort()\n",
        "    loopMin = m\n",
        "    for i in xrange(len(prefixSum)-1):\n",
        "        if prefixSum[i][1] > prefixSum[i+1][1] and prefixSum[i+1][0] - prefixSum[i][0] < loopMin:\n",
        "            loopMin = prefixSum[i+1][0] - prefixSum[i][0]\n",
        "    return max(prefixSum[-1][0], m-loopMin)\n",
        "\n",
        "\n",
        "\n",
        "#read about prefixSum"
      ],
      "execution_count": null,
      "outputs": []
    },
    {
      "cell_type": "code",
      "metadata": {
        "colab": {
          "base_uri": "https://localhost:8080/"
        },
        "id": "5PUkrHBPMQCp",
        "outputId": "1830dcf9-6778-4255-fa08-0a29ff89d48c"
      },
      "source": [
        "def whatFlavors(cost, money):\n",
        "    remains = dict()\n",
        "    for index, c in enumerate(cost):\n",
        "        if c not in remains:\n",
        "            remains[money - c] = index + 1\n",
        "        else:\n",
        "            print(str(remains[c])+' '+str(index + 1))\n",
        "\n",
        "whatFlavors([1,2,3,4,5],5)\n",
        "\n"
      ],
      "execution_count": null,
      "outputs": [
        {
          "output_type": "stream",
          "text": [
            "2 3\n",
            "1 4\n"
          ],
          "name": "stdout"
        }
      ]
    },
    {
      "cell_type": "code",
      "metadata": {
        "colab": {
          "base_uri": "https://localhost:8080/"
        },
        "id": "SbIImhNIX2dC",
        "outputId": "5554d92b-dbbb-4302-c9ed-1dce13c4dec3"
      },
      "source": [
        "def maxSubsetSum(arr):\n",
        "    dp = dict()# key : max index of subarray, value = sum\n",
        "    dp[0], dp[1] = arr[0], max(arr[0], arr[1])\n",
        "    for i, num in enumerate(arr[2:], start=2):\n",
        "        dp[i] = max(dp[i-1], dp[i-2]+num, dp[i-2], num)\n",
        "    print(dp)\n",
        "\n",
        "\n",
        "maxSubsetSum([-2,1,3,-4,5])\n",
        "\n"
      ],
      "execution_count": null,
      "outputs": [
        {
          "output_type": "stream",
          "text": [
            "{0: -2, 1: 1, 2: 3, 3: 3, 4: 8}\n"
          ],
          "name": "stdout"
        }
      ]
    },
    {
      "cell_type": "code",
      "metadata": {
        "colab": {
          "base_uri": "https://localhost:8080/"
        },
        "id": "DJyyPFUAheI5",
        "outputId": "ab44a842-bb59-4887-b797-e07662c7380d"
      },
      "source": [
        "def majorityElement(A):\n",
        "    count={}\n",
        "    for i in A:\n",
        "        count[i]=count.get(i,0)+1\n",
        "        \n",
        "        if count[i]>len(A)//2:\n",
        "            return i\n",
        "\n",
        "print(majorityElement([2,1,2,1]))\n"
      ],
      "execution_count": 2,
      "outputs": [
        {
          "output_type": "stream",
          "text": [
            "None\n"
          ],
          "name": "stdout"
        }
      ]
    },
    {
      "cell_type": "code",
      "metadata": {
        "colab": {
          "base_uri": "https://localhost:8080/"
        },
        "id": "EWkMmyk1dB8C",
        "outputId": "83c51f41-e377-4082-e034-df4d63f661c4"
      },
      "source": [
        "def candy(A):\n",
        "    \n",
        "    candies=[1]*len(A)\n",
        "    \n",
        "    for i in range(1,len(A)):\n",
        "        if A[i]==A[i-1]:\n",
        "            continue\n",
        "        elif A[i]>A[i-1] and candies[i]<=candies[i-1]:\n",
        "            candies[i]=candies[i-1]+1\n",
        "            \n",
        "        else:\n",
        "            j= i -1\n",
        "            while( j>=0 and A[j] > A[j+1] and candies[j]<=candies[j+1]  ):\n",
        "                candies[j] = candies[j+1] + 1\n",
        "                j-=1\n",
        "                \n",
        "    \n",
        "    return(sum(candies))\n",
        "\n",
        "\n",
        "print(candy([1,5,2,1]))"
      ],
      "execution_count": 1,
      "outputs": [
        {
          "output_type": "stream",
          "text": [
            "7\n"
          ],
          "name": "stdout"
        }
      ]
    },
    {
      "cell_type": "code",
      "metadata": {
        "colab": {
          "base_uri": "https://localhost:8080/"
        },
        "id": "dxcD4J66k8bZ",
        "outputId": "86b0e9e3-85d8-40af-9acb-d4a9bd241fc4"
      },
      "source": [
        "A=[2,1,2,1]\n",
        "count={}\n",
        "for i in A:\n",
        "    count[i]=count.get(i,0)+1\n",
        "\n",
        "print(count)\n",
        "        "
      ],
      "execution_count": 4,
      "outputs": [
        {
          "output_type": "stream",
          "text": [
            "{2: 2, 1: 2}\n"
          ],
          "name": "stdout"
        }
      ]
    },
    {
      "cell_type": "code",
      "metadata": {
        "colab": {
          "base_uri": "https://localhost:8080/",
          "height": 375
        },
        "id": "I68Kc0MVOtMz",
        "outputId": "397954b1-eee9-41d4-ff5d-db36096c979c"
      },
      "source": [
        "# Definition for a binary tree node.\n",
        "class TreeNode:\n",
        "     def __init__(self, val=0, left=None, right=None):\n",
        "         self.val = val\n",
        "         self.left = left\n",
        "         self.right = right\n",
        "\n",
        "'''\n",
        "class Node:\n",
        " \n",
        "    # Utility function to create new node\n",
        "    def __init__(self, key):\n",
        "        self.key = key\n",
        "        self.left = None\n",
        "        self.right = None\n",
        "'''\n",
        "def isMirror(root1, root2):\n",
        "    # If both trees are empty, then they are mirror images\n",
        "        if root1 is None and root2 is None:\n",
        "            return True\n",
        "\n",
        "        \"\"\" For two trees to be mirror images,\n",
        "            the following three conditions must be true\n",
        "            1 - Their root node's key must be same\n",
        "            2 - left subtree of left tree and right subtree\n",
        "              of the right tree have to be mirror images\n",
        "            3 - right subtree of left tree and left subtree\n",
        "               of right tree have to be mirror images\n",
        "        \"\"\"\n",
        "        if (root1 is not None and root2 is not None):\n",
        "            if root1.val == root2.val:\n",
        "                return (isMirror(root1.left, root2.right)and\n",
        "                        isMirror(root1.right, root2.left))\n",
        "\n",
        "        # If none of the above conditions is true then root1\n",
        "        # and root2 are not mirror images\n",
        "        return False\n",
        "    \n",
        "class Solution:\n",
        "    #def isSymmetric(self, root: TreeNode) -> bool:\n",
        "    \n",
        " \n",
        " \n",
        "    def isSymmetric(self, root: TreeNode) -> bool:\n",
        "\n",
        "        # Check if tree is mirror of itself\n",
        "        return isMirror(root, root)\n",
        "        \n",
        "\n",
        "# Driver Code\n",
        "# Let's construct the tree show in the above figure\n",
        "root = Node(1)\n",
        "root.left = Node(2)\n",
        "root.right = Node(2)\n",
        "root.left.left = Node(3)\n",
        "root.left.right = Node(4)\n",
        "root.right.left = Node(4)\n",
        "root.right.right = Node(3)\n",
        "#print (\"Symmetric\" if isSymmetric(root) == True else \"Not symmetric\")\n",
        "\n",
        "\n",
        "print(vars(root.left))"
      ],
      "execution_count": null,
      "outputs": [
        {
          "output_type": "error",
          "ename": "AttributeError",
          "evalue": "ignored",
          "traceback": [
            "\u001b[0;31m---------------------------------------------------------------------------\u001b[0m",
            "\u001b[0;31mAttributeError\u001b[0m                            Traceback (most recent call last)",
            "\u001b[0;32m<ipython-input-10-d57edfd0a0af>\u001b[0m in \u001b[0;36m<module>\u001b[0;34m()\u001b[0m\n\u001b[1;32m     57\u001b[0m \u001b[0mroot\u001b[0m\u001b[0;34m.\u001b[0m\u001b[0mright\u001b[0m\u001b[0;34m.\u001b[0m\u001b[0mleft\u001b[0m \u001b[0;34m=\u001b[0m \u001b[0mNode\u001b[0m\u001b[0;34m(\u001b[0m\u001b[0;36m4\u001b[0m\u001b[0;34m)\u001b[0m\u001b[0;34m\u001b[0m\u001b[0;34m\u001b[0m\u001b[0m\n\u001b[1;32m     58\u001b[0m \u001b[0mroot\u001b[0m\u001b[0;34m.\u001b[0m\u001b[0mright\u001b[0m\u001b[0;34m.\u001b[0m\u001b[0mright\u001b[0m \u001b[0;34m=\u001b[0m \u001b[0mNode\u001b[0m\u001b[0;34m(\u001b[0m\u001b[0;36m3\u001b[0m\u001b[0;34m)\u001b[0m\u001b[0;34m\u001b[0m\u001b[0;34m\u001b[0m\u001b[0m\n\u001b[0;32m---> 59\u001b[0;31m \u001b[0mprint\u001b[0m \u001b[0;34m(\u001b[0m\u001b[0;34m\"Symmetric\"\u001b[0m \u001b[0;32mif\u001b[0m \u001b[0mSolution\u001b[0m\u001b[0;34m.\u001b[0m\u001b[0misSymmetric\u001b[0m\u001b[0;34m(\u001b[0m\u001b[0mroot\u001b[0m\u001b[0;34m)\u001b[0m \u001b[0;34m==\u001b[0m \u001b[0;32mTrue\u001b[0m \u001b[0;32melse\u001b[0m \u001b[0;34m\"Not symmetric\"\u001b[0m\u001b[0;34m)\u001b[0m\u001b[0;34m\u001b[0m\u001b[0;34m\u001b[0m\u001b[0m\n\u001b[0m\u001b[1;32m     60\u001b[0m \u001b[0;34m\u001b[0m\u001b[0m\n\u001b[1;32m     61\u001b[0m \u001b[0;34m\u001b[0m\u001b[0m\n",
            "\u001b[0;32m<ipython-input-10-d57edfd0a0af>\u001b[0m in \u001b[0;36misSymmetric\u001b[0;34m(root)\u001b[0m\n\u001b[1;32m     45\u001b[0m \u001b[0;34m\u001b[0m\u001b[0m\n\u001b[1;32m     46\u001b[0m         \u001b[0;31m# Check if tree is mirror of itself\u001b[0m\u001b[0;34m\u001b[0m\u001b[0;34m\u001b[0m\u001b[0;34m\u001b[0m\u001b[0m\n\u001b[0;32m---> 47\u001b[0;31m         \u001b[0;32mreturn\u001b[0m \u001b[0misMirror\u001b[0m\u001b[0;34m(\u001b[0m\u001b[0mroot\u001b[0m\u001b[0;34m,\u001b[0m \u001b[0mroot\u001b[0m\u001b[0;34m)\u001b[0m\u001b[0;34m\u001b[0m\u001b[0;34m\u001b[0m\u001b[0m\n\u001b[0m\u001b[1;32m     48\u001b[0m \u001b[0;34m\u001b[0m\u001b[0m\n\u001b[1;32m     49\u001b[0m \u001b[0;34m\u001b[0m\u001b[0m\n",
            "\u001b[0;32m<ipython-input-10-d57edfd0a0af>\u001b[0m in \u001b[0;36misMirror\u001b[0;34m(root1, root2)\u001b[0m\n\u001b[1;32m     29\u001b[0m         \"\"\"\n\u001b[1;32m     30\u001b[0m         \u001b[0;32mif\u001b[0m \u001b[0;34m(\u001b[0m\u001b[0mroot1\u001b[0m \u001b[0;32mis\u001b[0m \u001b[0;32mnot\u001b[0m \u001b[0;32mNone\u001b[0m \u001b[0;32mand\u001b[0m \u001b[0mroot2\u001b[0m \u001b[0;32mis\u001b[0m \u001b[0;32mnot\u001b[0m \u001b[0;32mNone\u001b[0m\u001b[0;34m)\u001b[0m\u001b[0;34m:\u001b[0m\u001b[0;34m\u001b[0m\u001b[0;34m\u001b[0m\u001b[0m\n\u001b[0;32m---> 31\u001b[0;31m             \u001b[0;32mif\u001b[0m \u001b[0mroot1\u001b[0m\u001b[0;34m.\u001b[0m\u001b[0mval\u001b[0m \u001b[0;34m==\u001b[0m \u001b[0mroot2\u001b[0m\u001b[0;34m.\u001b[0m\u001b[0mval\u001b[0m\u001b[0;34m:\u001b[0m\u001b[0;34m\u001b[0m\u001b[0;34m\u001b[0m\u001b[0m\n\u001b[0m\u001b[1;32m     32\u001b[0m                 return (isMirror(root1.left, root2.right)and\n\u001b[1;32m     33\u001b[0m                         isMirror(root1.right, root2.left))\n",
            "\u001b[0;31mAttributeError\u001b[0m: 'Node' object has no attribute 'val'"
          ]
        }
      ]
    },
    {
      "cell_type": "code",
      "metadata": {
        "id": "-LGzm6rW_Bvs"
      },
      "source": [
        "# Definition for a binary tree node.\n",
        "# class TreeNode:\n",
        "def __init__(self, val=0, left=None, right=None):\n",
        "    self.val = val\n",
        "    self.left = left\n",
        "    self.right = right\n",
        "    \n",
        "       \n",
        "    \n",
        "    \n",
        "class Solution:\n",
        "    def minDepth(self, root: TreeNode) -> int:\n",
        "        #corner case\n",
        "        if root is None:\n",
        "            return 0\n",
        "         \n",
        "            \n",
        "        #initialize queue \n",
        "        q=[]\n",
        "        \n",
        "        q.append({'node':root, 'depth':1})\n",
        "        \n",
        "        while (len(q)>0):\n",
        "            \n",
        "            #Remove the front queue item\n",
        "            \n",
        "            queueItem = q.pop()\n",
        "            \n",
        "            #Get details of the removed item\n",
        "            node=queueItem['node']\n",
        "            depth=queueItem['depth']\n",
        "            \n",
        "            #if this the first leaf node so far return the depth\n",
        "            \n",
        "            if (node.left is None and node.right is None) or (node.left =='null' and node.right=='null'):\n",
        "                return depth\n",
        "            \n",
        "            \n",
        "            #if left subtree is not none add it to queue\n",
        "            \n",
        "            if node.left is not None:\n",
        "                q.append({'node' : node.left, 'depth' : depth+1})\n",
        "                \n",
        "            #if right subtree is non none add it to queue    \n",
        "            if node.right is not None:\n",
        "                q.append({'node' : node.right, 'depth':depth+1})"
      ],
      "execution_count": null,
      "outputs": []
    },
    {
      "cell_type": "code",
      "metadata": {
        "colab": {
          "base_uri": "https://localhost:8080/",
          "height": 130
        },
        "id": "fnbMKCwcflnj",
        "outputId": "e2ddb175-ce5f-44fd-a9ad-2dd9227b7cd9"
      },
      "source": [
        "def foo(iteration=0):\n",
        "    if iteration >= 5:    ###\n",
        "        return            ### dont call foo. stop the recursion\n",
        "    print(f\"spam number {iteration}\")\n",
        "    foo(iteration+1)\n",
        "    print(\"exiting foo\")\n",
        "\n",
        "\n",
        "foo() ### start\n",
        "print(\"finished\")\n",
        "\n",
        "\n",
        "\n",
        "\n",
        "#print(\"equal\" if isequal(1,10)==True else \"not equal\")"
      ],
      "execution_count": null,
      "outputs": [
        {
          "output_type": "error",
          "ename": "SyntaxError",
          "evalue": "ignored",
          "traceback": [
            "\u001b[0;36m  File \u001b[0;32m\"<ipython-input-26-1a67573e6c97>\"\u001b[0;36m, line \u001b[0;32m5\u001b[0m\n\u001b[0;31m    foo(iteration+=1)\u001b[0m\n\u001b[0m                  ^\u001b[0m\n\u001b[0;31mSyntaxError\u001b[0m\u001b[0;31m:\u001b[0m invalid syntax\n"
          ]
        }
      ]
    },
    {
      "cell_type": "code",
      "metadata": {
        "colab": {
          "base_uri": "https://localhost:8080/"
        },
        "id": "_MoXAc0YeGO7",
        "outputId": "1220d2bd-41a9-42bd-a6ef-94ca49334bd0"
      },
      "source": [
        "t=1\n",
        "def find(index,w):\n",
        "    s=''\n",
        "    temp=w[index]\n",
        "    for x in range(len(w)-1,-1,-1):\n",
        "        if(w[x]>temp):\n",
        "            break\n",
        "    s=(w[0:index]+w[x]+ ''.join(sorted( w[index+1:x]+temp+w[x+1:]))).strip()\n",
        "    print(s)\n",
        "for i in range(t):\n",
        "    w='dkhc'\n",
        "    index=0\n",
        "    flag=1\n",
        "    if(sorted(w,reverse=True)==[k for k in w]):\n",
        "          print(\"no answer\")\n",
        "    elif(len(w)==2):\n",
        "        print(w[::-1])\n",
        "    else:\n",
        "        for j in range(len(w)-2,0,-1):\n",
        "            if(w[j]<w[j+1]):\n",
        "                index=j\n",
        "                find(index,w)\n",
        "                flag=0\n",
        "                break\n",
        "            else:\n",
        "                index=j-1\n",
        "        if(flag==1):\n",
        "\n",
        "            find(index,w)"
      ],
      "execution_count": null,
      "outputs": [
        {
          "output_type": "stream",
          "text": [
            "hcdk\n"
          ],
          "name": "stdout"
        }
      ]
    },
    {
      "cell_type": "code",
      "metadata": {
        "colab": {
          "base_uri": "https://localhost:8080/"
        },
        "id": "mm0ISJOyhvHI",
        "outputId": "e16bbe79-304b-49b2-8d88-c1e4dc58d9c5"
      },
      "source": [
        "w='dkhc'\n",
        "\n",
        "\n",
        "\n",
        "for j in range(len(w)-2,0,-1):\n",
        "    if(w[j]<w[j+1]):\n",
        "        index=j\n",
        "        #find(index,w)\n",
        "        print(index)\n",
        "        flag=0\n",
        "        break\n",
        "    else:\n",
        "        index=j-1\n",
        "\n",
        "        print(index)\n",
        "\n",
        "\n",
        "\n",
        "\n",
        "\n"
      ],
      "execution_count": null,
      "outputs": [
        {
          "output_type": "stream",
          "text": [
            "1\n",
            "0\n"
          ],
          "name": "stdout"
        }
      ]
    },
    {
      "cell_type": "code",
      "metadata": {
        "colab": {
          "base_uri": "https://localhost:8080/"
        },
        "id": "KDdh6Mf0LLO8",
        "outputId": "98194555-3c9a-4a00-fbe5-c77a3137218f"
      },
      "source": [
        "def deckOfCards(cards, pair): # sde 3 amazon\n",
        "\n",
        "  result = []\n",
        "  result.append(pair)\n",
        "  for i in cards:\n",
        "    if i == pair:\n",
        "      continue\n",
        "    pair = result[-1] # get the last item of the list\n",
        "    if i[0] == pair[0] or i[1] == pair[1]:\n",
        "      result.append(i)\n",
        "\n",
        "  return result\n",
        "\n",
        "\n",
        "cards = [[\"H\", 3], [\"H\", 4], [\"S\", 4], [\"D\", 5], [\"D\", 1]]\n",
        "pair = [\"H\",3]\n",
        "print(deckOfCards(cards,pair))"
      ],
      "execution_count": null,
      "outputs": [
        {
          "output_type": "stream",
          "text": [
            "[['H', 3], ['H', 4], ['S', 4]]\n"
          ],
          "name": "stdout"
        }
      ]
    },
    {
      "cell_type": "code",
      "metadata": {
        "colab": {
          "base_uri": "https://localhost:8080/"
        },
        "id": "Qj6F8ycJNcpR",
        "outputId": "46b65420-3c49-42c5-a07e-1c47eb1d734e"
      },
      "source": [
        "def deckofcards(cards,pair):\n",
        "\n",
        "  result=[]\n",
        "\n",
        "  result.append(pair)\n",
        "\n",
        "  for i in cards:\n",
        "    if i == pair:\n",
        "      continue\n",
        "\n",
        "    pair=result[-1]\n",
        "\n",
        "    if (i[0]==pair[0] or i[1]==pair[1]):\n",
        "      result.append(i)\n",
        "\n",
        "  return(result)\n",
        "    \n",
        "    \n",
        "\n",
        "cards=[[\"H\",3],[\"H\",4],[\"S\",4],[\"D\",5],[\"D\",1]]\n",
        "\n",
        "pair=[\"H\",3]\n",
        "\n",
        "\n",
        "print(deckofcards(cards,pair))\n",
        "\n"
      ],
      "execution_count": null,
      "outputs": [
        {
          "output_type": "stream",
          "text": [
            "[['H', 3], ['H', 4], ['S', 4]]\n"
          ],
          "name": "stdout"
        }
      ]
    },
    {
      "cell_type": "code",
      "metadata": {
        "colab": {
          "base_uri": "https://localhost:8080/"
        },
        "id": "rSohFofLiyRa",
        "outputId": "edabf647-9f2a-41cb-b033-1e6e164dfd15"
      },
      "source": [
        "#remove duplicate strings\n",
        "\n",
        "\n",
        "w='abccdeffgghhi'\n",
        "\n",
        "#create list of zeroes for the 26 characters\n",
        "\n",
        "flag=[0]*26\n",
        "#print(flag)\n",
        "\n",
        "#create an empty list to store the result\n",
        "\n",
        "result=\"\"\n",
        "\n",
        "#iterate thru the string from right to left, if flag is zero then we are encountering this for the first time\n",
        "#if flag is 1 then this character has been encountered before\n",
        "'''\n",
        "for i in range (len(w)):\n",
        "  if flag[ord(w[i])-ord('a')]!=1:\n",
        "    #result.append(w[i])\n",
        "    result+=(w[i])\n",
        "    flag[ord(w[i])-ord('a')]=1\n",
        "'''\n",
        "\n",
        "for ch in w:\n",
        "  if flag[ord(ch)-ord('a')]==0:\n",
        "    result+=ch\n",
        "    flag[ord(ch)-ord('a')]=1\n",
        "\n",
        "print(result)\n",
        "\n",
        "\n"
      ],
      "execution_count": null,
      "outputs": [
        {
          "output_type": "stream",
          "text": [
            "abcdefghi\n"
          ],
          "name": "stdout"
        }
      ]
    },
    {
      "cell_type": "code",
      "metadata": {
        "colab": {
          "base_uri": "https://localhost:8080/"
        },
        "id": "tFkDcgsfJ66A",
        "outputId": "5ddb3151-8f7a-473b-afb9-ae261e9c7cdc"
      },
      "source": [
        "print(ord('a'))\n",
        "\n",
        "print(ord('b')- ord('a'))"
      ],
      "execution_count": null,
      "outputs": [
        {
          "output_type": "stream",
          "text": [
            "97\n",
            "1\n"
          ],
          "name": "stdout"
        }
      ]
    },
    {
      "cell_type": "code",
      "metadata": {
        "colab": {
          "base_uri": "https://localhost:8080/"
        },
        "id": "Xisfmo52mSJ6",
        "outputId": "16d98692-72c6-43d0-c554-5287efc385c4"
      },
      "source": [
        "A, B = [4, -1, 0, 3],  [-2, 5, 0, 3]\n",
        "\n",
        "for i in range(1, len(A)):\n",
        "    A[i] += A[i - 1]\n",
        "    B[i] += B[i - 1]\n",
        "\n",
        "\n",
        "\n",
        "\n",
        "print(A)\n",
        "\n",
        "\n",
        "print(B)"
      ],
      "execution_count": null,
      "outputs": [
        {
          "output_type": "stream",
          "text": [
            "[4, 3, 3, 6]\n",
            "[-2, 3, 3, 6]\n"
          ],
          "name": "stdout"
        }
      ]
    }
  ]
}